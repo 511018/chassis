{
 "cells": [
  {
   "cell_type": "markdown",
   "metadata": {},
   "source": [
    "The example model built in this notebook comes from this [Keras Tutorial](https://keras.io/examples/structured_data/imbalanced_classification/), which uses data provided by this [Kaggle competition](https://www.kaggle.com/mlg-ulb/creditcardfraud/?select=creditcard.csv).   "
   ]
  },
  {
   "cell_type": "code",
   "execution_count": 1,
   "metadata": {},
   "outputs": [],
   "source": [
    "import chassisml\n",
    "import pickle\n",
    "import getpass\n",
    "from tensorflow import keras\n",
    "import numpy as np\n",
    "import pandas as pd\n",
    "import csv\n",
    "from io import StringIO"
   ]
  },
  {
   "cell_type": "markdown",
   "metadata": {},
   "source": [
    "## Enter credentials\n",
    "Dockerhub creds and Modzy API Key"
   ]
  },
  {
   "cell_type": "code",
   "execution_count": 2,
   "metadata": {},
   "outputs": [
    {
     "name": "stdout",
     "output_type": "stream",
     "text": [
      "docker hub username········\n",
      "docker hub password········\n",
      "modzy api key········\n"
     ]
    }
   ],
   "source": [
    "dockerhub_user = getpass.getpass('docker hub username')\n",
    "dockerhub_pass = getpass.getpass('docker hub password')\n",
    "modzy_api_key = getpass.getpass('modzy api key')"
   ]
  },
  {
   "cell_type": "markdown",
   "metadata": {},
   "source": [
    "## Prepare Data"
   ]
  },
  {
   "cell_type": "code",
   "execution_count": 4,
   "metadata": {},
   "outputs": [
    {
     "name": "stdout",
     "output_type": "stream",
     "text": [
      "HEADER: \"Time\",\"V1\",\"V2\",\"V3\",\"V4\",\"V5\",\"V6\",\"V7\",\"V8\",\"V9\",\"V10\",\"V11\",\"V12\",\"V13\",\"V14\",\"V15\",\"V16\",\"V17\",\"V18\",\"V19\",\"V20\",\"V21\",\"V22\",\"V23\",\"V24\",\"V25\",\"V26\",\"V27\",\"V28\",\"Amount\",\"Class\"\n",
      "EXAMPLE FEATURES: [0.0, -1.3598071336738, -0.0727811733098497, 2.53634673796914, 1.37815522427443, -0.338320769942518, 0.462387777762292, 0.239598554061257, 0.0986979012610507, 0.363786969611213, 0.0907941719789316, -0.551599533260813, -0.617800855762348, -0.991389847235408, -0.311169353699879, 1.46817697209427, -0.470400525259478, 0.207971241929242, 0.0257905801985591, 0.403992960255733, 0.251412098239705, -0.018306777944153, 0.277837575558899, -0.110473910188767, 0.0669280749146731, 0.128539358273528, -0.189114843888824, 0.133558376740387, -0.0210530534538215, 149.62]\n",
      "features.shape: (284807, 30)\n",
      "targets.shape: (284807, 1)\n"
     ]
    }
   ],
   "source": [
    "# Get the real data from https://www.kaggle.com/mlg-ulb/creditcardfraud/\n",
    "fname = \"./data/creditcard.csv\"\n",
    "\n",
    "all_features = []\n",
    "all_targets = []\n",
    "with open(fname) as f:\n",
    "    for i, line in enumerate(f):\n",
    "        if i == 0:\n",
    "            print(\"HEADER:\", line.strip())\n",
    "            continue  # Skip header\n",
    "        fields = line.strip().split(\",\")\n",
    "        all_features.append([float(v.replace('\"', \"\")) for v in fields[:-1]])\n",
    "        all_targets.append([int(fields[-1].replace('\"', \"\"))])\n",
    "        if i == 1:\n",
    "            print(\"EXAMPLE FEATURES:\", all_features[-1])\n",
    "\n",
    "features = np.array(all_features, dtype=\"float32\")\n",
    "targets = np.array(all_targets, dtype=\"uint8\")\n",
    "print(\"features.shape:\", features.shape)\n",
    "print(\"targets.shape:\", targets.shape)"
   ]
  },
  {
   "cell_type": "code",
   "execution_count": 5,
   "metadata": {},
   "outputs": [
    {
     "name": "stdout",
     "output_type": "stream",
     "text": [
      "Number of training samples: 227846\n",
      "Number of validation samples: 56961\n",
      "Number of positive samples in training data: 417 (0.18% of total)\n"
     ]
    }
   ],
   "source": [
    "# Prepare Validation Set\n",
    "num_val_samples = int(len(features) * 0.2)\n",
    "train_features = features[:-num_val_samples]\n",
    "train_targets = targets[:-num_val_samples]\n",
    "val_features = features[-num_val_samples:]\n",
    "val_targets = targets[-num_val_samples:]\n",
    "\n",
    "print(\"Number of training samples:\", len(train_features))\n",
    "print(\"Number of validation samples:\", len(val_features))\n",
    "\n",
    "# Analyze Class Imbalances\n",
    "counts = np.bincount(train_targets[:, 0])\n",
    "print(\n",
    "    \"Number of positive samples in training data: {} ({:.2f}% of total)\".format(\n",
    "        counts[1], 100 * float(counts[1]) / len(train_targets)\n",
    "    )\n",
    ")\n",
    "\n",
    "weight_for_0 = 1.0 / counts[0]\n",
    "weight_for_1 = 1.0 / counts[1]\n",
    "\n",
    "# Normalize Data\n",
    "mean = np.mean(train_features, axis=0)\n",
    "train_features -= mean\n",
    "val_features -= mean\n",
    "std = np.std(train_features, axis=0)\n",
    "train_features /= std\n",
    "val_features /= std"
   ]
  },
  {
   "cell_type": "code",
   "execution_count": 6,
   "metadata": {},
   "outputs": [],
   "source": [
    "# save small sample test set for later\n",
    "test_set = pd.DataFrame(val_features[:10])\n",
    "test_targets = val_targets[:10]\n",
    "with open(\"./data/credit_card_fraud_test.csv\", \"w\") as out:\n",
    "    test_set.to_csv(out, index=False)"
   ]
  },
  {
   "cell_type": "markdown",
   "metadata": {},
   "source": [
    "## Build and Train Model"
   ]
  },
  {
   "cell_type": "code",
   "execution_count": 7,
   "metadata": {},
   "outputs": [
    {
     "name": "stdout",
     "output_type": "stream",
     "text": [
      "Model: \"sequential\"\n",
      "_________________________________________________________________\n",
      " Layer (type)                Output Shape              Param #   \n",
      "=================================================================\n",
      " dense (Dense)               (None, 256)               7936      \n",
      "                                                                 \n",
      " dense_1 (Dense)             (None, 256)               65792     \n",
      "                                                                 \n",
      " dropout (Dropout)           (None, 256)               0         \n",
      "                                                                 \n",
      " dense_2 (Dense)             (None, 256)               65792     \n",
      "                                                                 \n",
      " dropout_1 (Dropout)         (None, 256)               0         \n",
      "                                                                 \n",
      " dense_3 (Dense)             (None, 1)                 257       \n",
      "                                                                 \n",
      "=================================================================\n",
      "Total params: 139,777\n",
      "Trainable params: 139,777\n",
      "Non-trainable params: 0\n",
      "_________________________________________________________________\n"
     ]
    }
   ],
   "source": [
    "# binary classification model\n",
    "model = keras.Sequential(\n",
    "    [\n",
    "        keras.layers.Dense(\n",
    "            256, activation=\"relu\", input_shape=(train_features.shape[-1],)\n",
    "        ),\n",
    "        keras.layers.Dense(256, activation=\"relu\"),\n",
    "        keras.layers.Dropout(0.3),\n",
    "        keras.layers.Dense(256, activation=\"relu\"),\n",
    "        keras.layers.Dropout(0.3),\n",
    "        keras.layers.Dense(1, activation=\"sigmoid\"),\n",
    "    ]\n",
    ")\n",
    "model.summary()"
   ]
  },
  {
   "cell_type": "code",
   "execution_count": 8,
   "metadata": {
    "scrolled": true
   },
   "outputs": [
    {
     "name": "stdout",
     "output_type": "stream",
     "text": [
      "Epoch 1/30\n",
      "112/112 - 4s - loss: 2.2329e-06 - fn: 47.0000 - fp: 25061.0000 - tn: 202368.0000 - tp: 370.0000 - precision: 0.0145 - recall: 0.8873 - val_loss: 0.0673 - val_fn: 9.0000 - val_fp: 593.0000 - val_tn: 56293.0000 - val_tp: 66.0000 - val_precision: 0.1002 - val_recall: 0.8800 - 4s/epoch - 33ms/step\n",
      "Epoch 2/30\n",
      "112/112 - 3s - loss: 1.7270e-06 - fn: 34.0000 - fp: 10535.0000 - tn: 216894.0000 - tp: 383.0000 - precision: 0.0351 - recall: 0.9185 - val_loss: 0.1122 - val_fn: 7.0000 - val_fp: 1843.0000 - val_tn: 55043.0000 - val_tp: 68.0000 - val_precision: 0.0356 - val_recall: 0.9067 - 3s/epoch - 26ms/step\n",
      "Epoch 3/30\n",
      "112/112 - 3s - loss: 1.1493e-06 - fn: 33.0000 - fp: 5637.0000 - tn: 221792.0000 - tp: 384.0000 - precision: 0.0638 - recall: 0.9209 - val_loss: 0.1192 - val_fn: 6.0000 - val_fp: 2196.0000 - val_tn: 54690.0000 - val_tp: 69.0000 - val_precision: 0.0305 - val_recall: 0.9200 - 3s/epoch - 27ms/step\n",
      "Epoch 4/30\n",
      "112/112 - 3s - loss: 1.1605e-06 - fn: 22.0000 - fp: 6915.0000 - tn: 220514.0000 - tp: 395.0000 - precision: 0.0540 - recall: 0.9472 - val_loss: 0.0594 - val_fn: 9.0000 - val_fp: 919.0000 - val_tn: 55967.0000 - val_tp: 66.0000 - val_precision: 0.0670 - val_recall: 0.8800 - 3s/epoch - 26ms/step\n",
      "Epoch 5/30\n",
      "112/112 - 3s - loss: 9.7824e-07 - fn: 20.0000 - fp: 7507.0000 - tn: 219922.0000 - tp: 397.0000 - precision: 0.0502 - recall: 0.9520 - val_loss: 0.0486 - val_fn: 8.0000 - val_fp: 832.0000 - val_tn: 56054.0000 - val_tp: 67.0000 - val_precision: 0.0745 - val_recall: 0.8933 - 3s/epoch - 26ms/step\n",
      "Epoch 6/30\n",
      "112/112 - 3s - loss: 9.2552e-07 - fn: 20.0000 - fp: 7459.0000 - tn: 219970.0000 - tp: 397.0000 - precision: 0.0505 - recall: 0.9520 - val_loss: 0.0394 - val_fn: 8.0000 - val_fp: 657.0000 - val_tn: 56229.0000 - val_tp: 67.0000 - val_precision: 0.0925 - val_recall: 0.8933 - 3s/epoch - 25ms/step\n",
      "Epoch 7/30\n",
      "112/112 - 3s - loss: 7.6483e-07 - fn: 17.0000 - fp: 6894.0000 - tn: 220535.0000 - tp: 400.0000 - precision: 0.0548 - recall: 0.9592 - val_loss: 0.0626 - val_fn: 7.0000 - val_fp: 1309.0000 - val_tn: 55577.0000 - val_tp: 68.0000 - val_precision: 0.0494 - val_recall: 0.9067 - 3s/epoch - 26ms/step\n",
      "Epoch 8/30\n",
      "112/112 - 3s - loss: 7.4899e-07 - fn: 14.0000 - fp: 7850.0000 - tn: 219579.0000 - tp: 403.0000 - precision: 0.0488 - recall: 0.9664 - val_loss: 0.0993 - val_fn: 7.0000 - val_fp: 2236.0000 - val_tn: 54650.0000 - val_tp: 68.0000 - val_precision: 0.0295 - val_recall: 0.9067 - 3s/epoch - 31ms/step\n",
      "Epoch 9/30\n",
      "112/112 - 3s - loss: 6.8523e-07 - fn: 12.0000 - fp: 7489.0000 - tn: 219940.0000 - tp: 405.0000 - precision: 0.0513 - recall: 0.9712 - val_loss: 0.0434 - val_fn: 10.0000 - val_fp: 849.0000 - val_tn: 56037.0000 - val_tp: 65.0000 - val_precision: 0.0711 - val_recall: 0.8667 - 3s/epoch - 29ms/step\n",
      "Epoch 10/30\n",
      "112/112 - 3s - loss: 5.4486e-07 - fn: 10.0000 - fp: 5488.0000 - tn: 221941.0000 - tp: 407.0000 - precision: 0.0690 - recall: 0.9760 - val_loss: 0.0306 - val_fn: 8.0000 - val_fp: 708.0000 - val_tn: 56178.0000 - val_tp: 67.0000 - val_precision: 0.0865 - val_recall: 0.8933 - 3s/epoch - 28ms/step\n",
      "Epoch 11/30\n",
      "112/112 - 4s - loss: 3.4982e-06 - fn: 23.0000 - fp: 9927.0000 - tn: 217502.0000 - tp: 394.0000 - precision: 0.0382 - recall: 0.9448 - val_loss: 0.1081 - val_fn: 10.0000 - val_fp: 787.0000 - val_tn: 56099.0000 - val_tp: 65.0000 - val_precision: 0.0763 - val_recall: 0.8667 - 4s/epoch - 34ms/step\n",
      "Epoch 12/30\n",
      "112/112 - 3s - loss: 2.4879e-06 - fn: 25.0000 - fp: 9131.0000 - tn: 218298.0000 - tp: 392.0000 - precision: 0.0412 - recall: 0.9400 - val_loss: 0.1450 - val_fn: 9.0000 - val_fp: 1120.0000 - val_tn: 55766.0000 - val_tp: 66.0000 - val_precision: 0.0556 - val_recall: 0.8800 - 3s/epoch - 29ms/step\n",
      "Epoch 13/30\n",
      "112/112 - 3s - loss: 2.4231e-06 - fn: 24.0000 - fp: 6042.0000 - tn: 221387.0000 - tp: 393.0000 - precision: 0.0611 - recall: 0.9424 - val_loss: 0.1022 - val_fn: 7.0000 - val_fp: 1908.0000 - val_tn: 54978.0000 - val_tp: 68.0000 - val_precision: 0.0344 - val_recall: 0.9067 - 3s/epoch - 26ms/step\n",
      "Epoch 14/30\n",
      "112/112 - 3s - loss: 2.1861e-06 - fn: 13.0000 - fp: 5169.0000 - tn: 222260.0000 - tp: 404.0000 - precision: 0.0725 - recall: 0.9688 - val_loss: 0.1061 - val_fn: 9.0000 - val_fp: 579.0000 - val_tn: 56307.0000 - val_tp: 66.0000 - val_precision: 0.1023 - val_recall: 0.8800 - 3s/epoch - 25ms/step\n",
      "Epoch 15/30\n",
      "112/112 - 3s - loss: 1.3560e-06 - fn: 15.0000 - fp: 4924.0000 - tn: 222505.0000 - tp: 402.0000 - precision: 0.0755 - recall: 0.9640 - val_loss: 0.0283 - val_fn: 8.0000 - val_fp: 525.0000 - val_tn: 56361.0000 - val_tp: 67.0000 - val_precision: 0.1132 - val_recall: 0.8933 - 3s/epoch - 29ms/step\n",
      "Epoch 16/30\n",
      "112/112 - 3s - loss: 7.3305e-07 - fn: 11.0000 - fp: 6032.0000 - tn: 221397.0000 - tp: 406.0000 - precision: 0.0631 - recall: 0.9736 - val_loss: 0.0369 - val_fn: 10.0000 - val_fp: 813.0000 - val_tn: 56073.0000 - val_tp: 65.0000 - val_precision: 0.0740 - val_recall: 0.8667 - 3s/epoch - 27ms/step\n",
      "Epoch 17/30\n",
      "112/112 - 3s - loss: 6.5384e-07 - fn: 8.0000 - fp: 6089.0000 - tn: 221340.0000 - tp: 409.0000 - precision: 0.0629 - recall: 0.9808 - val_loss: 0.0461 - val_fn: 9.0000 - val_fp: 939.0000 - val_tn: 55947.0000 - val_tp: 66.0000 - val_precision: 0.0657 - val_recall: 0.8800 - 3s/epoch - 27ms/step\n",
      "Epoch 18/30\n",
      "112/112 - 3s - loss: 5.1559e-07 - fn: 6.0000 - fp: 4971.0000 - tn: 222458.0000 - tp: 411.0000 - precision: 0.0764 - recall: 0.9856 - val_loss: 0.0286 - val_fn: 9.0000 - val_fp: 571.0000 - val_tn: 56315.0000 - val_tp: 66.0000 - val_precision: 0.1036 - val_recall: 0.8800 - 3s/epoch - 27ms/step\n",
      "Epoch 19/30\n",
      "112/112 - 3s - loss: 3.7144e-07 - fn: 5.0000 - fp: 3521.0000 - tn: 223908.0000 - tp: 412.0000 - precision: 0.1048 - recall: 0.9880 - val_loss: 0.0166 - val_fn: 10.0000 - val_fp: 325.0000 - val_tn: 56561.0000 - val_tp: 65.0000 - val_precision: 0.1667 - val_recall: 0.8667 - 3s/epoch - 27ms/step\n",
      "Epoch 20/30\n",
      "112/112 - 3s - loss: 4.6816e-07 - fn: 5.0000 - fp: 4484.0000 - tn: 222945.0000 - tp: 412.0000 - precision: 0.0842 - recall: 0.9880 - val_loss: 0.0470 - val_fn: 9.0000 - val_fp: 594.0000 - val_tn: 56292.0000 - val_tp: 66.0000 - val_precision: 0.1000 - val_recall: 0.8800 - 3s/epoch - 26ms/step\n",
      "Epoch 21/30\n",
      "112/112 - 3s - loss: 5.0140e-07 - fn: 7.0000 - fp: 4803.0000 - tn: 222626.0000 - tp: 410.0000 - precision: 0.0786 - recall: 0.9832 - val_loss: 0.0118 - val_fn: 12.0000 - val_fp: 191.0000 - val_tn: 56695.0000 - val_tp: 63.0000 - val_precision: 0.2480 - val_recall: 0.8400 - 3s/epoch - 31ms/step\n",
      "Epoch 22/30\n",
      "112/112 - 3s - loss: 4.1309e-07 - fn: 5.0000 - fp: 4294.0000 - tn: 223135.0000 - tp: 412.0000 - precision: 0.0875 - recall: 0.9880 - val_loss: 0.0219 - val_fn: 9.0000 - val_fp: 505.0000 - val_tn: 56381.0000 - val_tp: 66.0000 - val_precision: 0.1156 - val_recall: 0.8800 - 3s/epoch - 26ms/step\n",
      "Epoch 23/30\n",
      "112/112 - 3s - loss: 3.0719e-07 - fn: 1.0000 - fp: 3587.0000 - tn: 223842.0000 - tp: 416.0000 - precision: 0.1039 - recall: 0.9976 - val_loss: 0.0440 - val_fn: 12.0000 - val_fp: 512.0000 - val_tn: 56374.0000 - val_tp: 63.0000 - val_precision: 0.1096 - val_recall: 0.8400 - 3s/epoch - 27ms/step\n",
      "Epoch 24/30\n",
      "112/112 - 3s - loss: 6.6063e-07 - fn: 5.0000 - fp: 4256.0000 - tn: 223173.0000 - tp: 412.0000 - precision: 0.0883 - recall: 0.9880 - val_loss: 0.0274 - val_fn: 9.0000 - val_fp: 462.0000 - val_tn: 56424.0000 - val_tp: 66.0000 - val_precision: 0.1250 - val_recall: 0.8800 - 3s/epoch - 25ms/step\n",
      "Epoch 25/30\n",
      "112/112 - 3s - loss: 1.1218e-06 - fn: 9.0000 - fp: 3659.0000 - tn: 223770.0000 - tp: 408.0000 - precision: 0.1003 - recall: 0.9784 - val_loss: 0.0641 - val_fn: 10.0000 - val_fp: 424.0000 - val_tn: 56462.0000 - val_tp: 65.0000 - val_precision: 0.1329 - val_recall: 0.8667 - 3s/epoch - 26ms/step\n",
      "Epoch 26/30\n",
      "112/112 - 3s - loss: 1.1520e-06 - fn: 6.0000 - fp: 3587.0000 - tn: 223842.0000 - tp: 411.0000 - precision: 0.1028 - recall: 0.9856 - val_loss: 0.0564 - val_fn: 9.0000 - val_fp: 473.0000 - val_tn: 56413.0000 - val_tp: 66.0000 - val_precision: 0.1224 - val_recall: 0.8800 - 3s/epoch - 27ms/step\n",
      "Epoch 27/30\n",
      "112/112 - 3s - loss: 6.4750e-07 - fn: 5.0000 - fp: 4929.0000 - tn: 222500.0000 - tp: 412.0000 - precision: 0.0771 - recall: 0.9880 - val_loss: 0.0326 - val_fn: 11.0000 - val_fp: 645.0000 - val_tn: 56241.0000 - val_tp: 64.0000 - val_precision: 0.0903 - val_recall: 0.8533 - 3s/epoch - 26ms/step\n"
     ]
    },
    {
     "name": "stdout",
     "output_type": "stream",
     "text": [
      "Epoch 28/30\n",
      "112/112 - 3s - loss: 4.2769e-07 - fn: 4.0000 - fp: 2976.0000 - tn: 224453.0000 - tp: 413.0000 - precision: 0.1219 - recall: 0.9904 - val_loss: 0.0188 - val_fn: 10.0000 - val_fp: 297.0000 - val_tn: 56589.0000 - val_tp: 65.0000 - val_precision: 0.1796 - val_recall: 0.8667 - 3s/epoch - 26ms/step\n",
      "Epoch 29/30\n",
      "112/112 - 3s - loss: 2.8418e-07 - fn: 4.0000 - fp: 2464.0000 - tn: 224965.0000 - tp: 413.0000 - precision: 0.1436 - recall: 0.9904 - val_loss: 0.0108 - val_fn: 11.0000 - val_fp: 174.0000 - val_tn: 56712.0000 - val_tp: 64.0000 - val_precision: 0.2689 - val_recall: 0.8533 - 3s/epoch - 26ms/step\n",
      "Epoch 30/30\n",
      "112/112 - 3s - loss: 1.6812e-07 - fn: 0.0000e+00 - fp: 1614.0000 - tn: 225815.0000 - tp: 417.0000 - precision: 0.2053 - recall: 1.0000 - val_loss: 0.0081 - val_fn: 11.0000 - val_fp: 115.0000 - val_tn: 56771.0000 - val_tp: 64.0000 - val_precision: 0.3575 - val_recall: 0.8533 - 3s/epoch - 26ms/step\n"
     ]
    },
    {
     "data": {
      "text/plain": [
       "<keras.callbacks.History at 0x219ae107760>"
      ]
     },
     "execution_count": 8,
     "metadata": {},
     "output_type": "execute_result"
    }
   ],
   "source": [
    "# train model\n",
    "metrics = [\n",
    "    keras.metrics.FalseNegatives(name=\"fn\"),\n",
    "    keras.metrics.FalsePositives(name=\"fp\"),\n",
    "    keras.metrics.TrueNegatives(name=\"tn\"),\n",
    "    keras.metrics.TruePositives(name=\"tp\"),\n",
    "    keras.metrics.Precision(name=\"precision\"),\n",
    "    keras.metrics.Recall(name=\"recall\"),\n",
    "]\n",
    "\n",
    "model.compile(\n",
    "    optimizer=keras.optimizers.Adam(1e-2), loss=\"binary_crossentropy\", metrics=metrics\n",
    ")\n",
    "\n",
    "callbacks = [keras.callbacks.ModelCheckpoint(\"fraud_model_at_epoch_{epoch}.h5\")]\n",
    "class_weight = {0: weight_for_0, 1: weight_for_1}\n",
    "\n",
    "model.fit(\n",
    "    train_features,\n",
    "    train_targets,\n",
    "    batch_size=2048,\n",
    "    epochs=30,\n",
    "    verbose=2,\n",
    "    callbacks=callbacks,\n",
    "    validation_data=(val_features, val_targets),\n",
    "    class_weight=class_weight,\n",
    ")"
   ]
  },
  {
   "cell_type": "markdown",
   "metadata": {},
   "source": [
    "## Prepare context dict\n",
    "Initialize anything here that should persist across inference runs"
   ]
  },
  {
   "cell_type": "code",
   "execution_count": 21,
   "metadata": {},
   "outputs": [],
   "source": [
    "model_loaded = keras.models.load_model(\"./data/fraud_model.h5\")"
   ]
  },
  {
   "cell_type": "code",
   "execution_count": 22,
   "metadata": {},
   "outputs": [
    {
     "data": {
      "text/plain": [
       "array([[5.9610628e-28],\n",
       "       [1.2432390e-15],\n",
       "       [5.9897824e-21],\n",
       "       [6.9545074e-08],\n",
       "       [8.2415342e-04],\n",
       "       [5.0830014e-08],\n",
       "       [2.1298048e-09],\n",
       "       [4.2522891e-28],\n",
       "       [1.2371518e-05],\n",
       "       [2.8836448e-23]], dtype=float32)"
      ]
     },
     "execution_count": 22,
     "metadata": {},
     "output_type": "execute_result"
    }
   ],
   "source": [
    "model_loaded.predict(val_features[:10])"
   ]
  },
  {
   "cell_type": "code",
   "execution_count": 23,
   "metadata": {},
   "outputs": [],
   "source": [
    "fraud_model = model_loaded    \n",
    "\n",
    "# This will be passed to Chassis:\n",
    "context = {\n",
    "    \"fraud_model\": fraud_model,\n",
    "}"
   ]
  },
  {
   "cell_type": "markdown",
   "metadata": {},
   "source": [
    "## Write process function\n",
    "\n",
    "* Must take bytes and context dict as input\n",
    "* Preprocess bytes, run inference, postprocess model output, return results"
   ]
  },
  {
   "cell_type": "code",
   "execution_count": 24,
   "metadata": {},
   "outputs": [],
   "source": [
    "def process(input_bytes,context):\n",
    "    \n",
    "    # read csv file\n",
    "    pd_data = pd.read_csv(StringIO(str(input_bytes, \"utf-8\")))\n",
    "    np_data = pd_data.to_numpy()\n",
    "    \n",
    "    # run inference\n",
    "    predictions = context['fraud_model'].predict(np_data)\n",
    "\n",
    "    inference_result = {\n",
    "        \"fraudPredictions\": [\n",
    "            {\"entry\": i, \"probability\": pred.item()}\n",
    "        for i, pred in enumerate(predictions) ]\n",
    "    }\n",
    "\n",
    "    structured_output = {\n",
    "        \"data\": {\n",
    "            \"result\": inference_result,\n",
    "            \"explanation\": None,\n",
    "            \"drift\": None,\n",
    "        }\n",
    "    }\n",
    "    \n",
    "    return structured_output"
   ]
  },
  {
   "cell_type": "markdown",
   "metadata": {},
   "source": [
    "## Initialize Chassis Client\n",
    "We'll use this to interact with the Chassis service"
   ]
  },
  {
   "cell_type": "code",
   "execution_count": 25,
   "metadata": {},
   "outputs": [],
   "source": [
    "chassis_client = chassisml.ChassisClient(\"http://localhost:5000\")"
   ]
  },
  {
   "cell_type": "markdown",
   "metadata": {},
   "source": [
    "## Create and test Chassis model\n",
    "* Requires `context` dict containing all variables which should be loaded once and persist across inferences\n",
    "* Requires `process_fn` defined above"
   ]
  },
  {
   "cell_type": "code",
   "execution_count": 26,
   "metadata": {},
   "outputs": [
    {
     "name": "stdout",
     "output_type": "stream",
     "text": [
      "b'{\"data\":{\"result\":{\"fraudPredictions\":[{\"entry\":0,\"probability\":5.961062771117055e-28},{\"entry\":1,\"probability\":1.2432389610796037e-15},{\"entry\":2,\"probability\":5.989782432661615e-21},{\"entry\":3,\"probability\":6.954507369982821e-08},{\"entry\":4,\"probability\":0.0008241534233093262},{\"entry\":5,\"probability\":5.0830013975655675e-08},{\"entry\":6,\"probability\":2.129804776984656e-09},{\"entry\":7,\"probability\":4.252289131679258e-28},{\"entry\":8,\"probability\":1.2371518096188083e-05},{\"entry\":9,\"probability\":2.8836447514337685e-23}]},\"explanation\":null,\"drift\":null}}'\n"
     ]
    }
   ],
   "source": [
    "# create Chassis model\n",
    "chassis_model = chassis_client.create_model(context=context,process_fn=process)\n",
    "\n",
    "# test Chassis model (can pass filepath, bufferedreader, bytes, or text here):\n",
    "sample_filepath = './data/credit_card_fraud_test.csv'\n",
    "results = chassis_model.test(sample_filepath)\n",
    "print(results)"
   ]
  },
  {
   "cell_type": "code",
   "execution_count": 29,
   "metadata": {},
   "outputs": [
    {
     "data": {
      "text/plain": [
       "keras.engine.sequential.Sequential"
      ]
     },
     "execution_count": 29,
     "metadata": {},
     "output_type": "execute_result"
    }
   ],
   "source": [
    "type(context[\"fraud_model\"])"
   ]
  },
  {
   "cell_type": "code",
   "execution_count": 27,
   "metadata": {},
   "outputs": [
    {
     "name": "stdout",
     "output_type": "stream",
     "text": [
      "INFO:tensorflow:Assets written to: ram://af639b0b-8663-4dab-a099-3e4c0ef32148/assets\n"
     ]
    },
    {
     "ename": "NotFoundError",
     "evalue": "",
     "output_type": "error",
     "traceback": [
      "\u001b[1;31m---------------------------------------------------------------------------\u001b[0m",
      "\u001b[1;31mNotFoundError\u001b[0m                             Traceback (most recent call last)",
      "\u001b[1;32mC:\\Users\\BRADLE~1\\AppData\\Local\\Temp/ipykernel_24872/758726572.py\u001b[0m in \u001b[0;36m<module>\u001b[1;34m\u001b[0m\n\u001b[0;32m      1\u001b[0m \u001b[1;31m# test environment and model within Chassis service, must pass filepath here:\u001b[0m\u001b[1;33m\u001b[0m\u001b[1;33m\u001b[0m\u001b[1;33m\u001b[0m\u001b[0m\n\u001b[1;32m----> 2\u001b[1;33m \u001b[0mtest_env_result\u001b[0m \u001b[1;33m=\u001b[0m \u001b[0mchassis_model\u001b[0m\u001b[1;33m.\u001b[0m\u001b[0mtest_env\u001b[0m\u001b[1;33m(\u001b[0m\u001b[0msample_filepath\u001b[0m\u001b[1;33m)\u001b[0m\u001b[1;33m\u001b[0m\u001b[1;33m\u001b[0m\u001b[0m\n\u001b[0m\u001b[0;32m      3\u001b[0m \u001b[0mprint\u001b[0m\u001b[1;33m(\u001b[0m\u001b[0mtest_env_result\u001b[0m\u001b[1;33m)\u001b[0m\u001b[1;33m\u001b[0m\u001b[1;33m\u001b[0m\u001b[0m\n",
      "\u001b[1;32m~\\AppData\\Roaming\\Python\\Python38\\site-packages\\chassisml\\chassisml.py\u001b[0m in \u001b[0;36mtest_env\u001b[1;34m(self, test_input_path, conda_env, fix_env)\u001b[0m\n\u001b[0;32m     65\u001b[0m     \u001b[1;32mdef\u001b[0m \u001b[0mtest_env\u001b[0m\u001b[1;33m(\u001b[0m\u001b[0mself\u001b[0m\u001b[1;33m,\u001b[0m\u001b[0mtest_input_path\u001b[0m\u001b[1;33m,\u001b[0m\u001b[0mconda_env\u001b[0m\u001b[1;33m=\u001b[0m\u001b[1;32mNone\u001b[0m\u001b[1;33m,\u001b[0m\u001b[0mfix_env\u001b[0m\u001b[1;33m=\u001b[0m\u001b[1;32mTrue\u001b[0m\u001b[1;33m)\u001b[0m\u001b[1;33m:\u001b[0m\u001b[1;33m\u001b[0m\u001b[1;33m\u001b[0m\u001b[0m\n\u001b[0;32m     66\u001b[0m         \u001b[0mmodel_directory\u001b[0m \u001b[1;33m=\u001b[0m \u001b[0mos\u001b[0m\u001b[1;33m.\u001b[0m\u001b[0mpath\u001b[0m\u001b[1;33m.\u001b[0m\u001b[0mjoin\u001b[0m\u001b[1;33m(\u001b[0m\u001b[0mtempfile\u001b[0m\u001b[1;33m.\u001b[0m\u001b[0mmkdtemp\u001b[0m\u001b[1;33m(\u001b[0m\u001b[1;33m)\u001b[0m\u001b[1;33m,\u001b[0m\u001b[0mCHASSIS_TMP_DIRNAME\u001b[0m\u001b[1;33m)\u001b[0m\u001b[1;33m\u001b[0m\u001b[1;33m\u001b[0m\u001b[0m\n\u001b[1;32m---> 67\u001b[1;33m         mlflow.pyfunc.save_model(path=model_directory, python_model=self, conda_env=conda_env, \n\u001b[0m\u001b[0;32m     68\u001b[0m                                 extra_pip_requirements = None if conda_env else [\"chassisml=={}\".format(__version__)])\n\u001b[0;32m     69\u001b[0m \u001b[1;33m\u001b[0m\u001b[0m\n",
      "\u001b[1;32mC:\\tools\\Anaconda3\\envs\\chassis-demo\\lib\\site-packages\\mlflow\\pyfunc\\__init__.py\u001b[0m in \u001b[0;36msave_model\u001b[1;34m(path, loader_module, data_path, code_path, conda_env, mlflow_model, python_model, artifacts, signature, input_example, pip_requirements, extra_pip_requirements, **kwargs)\u001b[0m\n\u001b[0;32m   1091\u001b[0m         )\n\u001b[0;32m   1092\u001b[0m     \u001b[1;32melif\u001b[0m \u001b[0msecond_argument_set_specified\u001b[0m\u001b[1;33m:\u001b[0m\u001b[1;33m\u001b[0m\u001b[1;33m\u001b[0m\u001b[0m\n\u001b[1;32m-> 1093\u001b[1;33m         return mlflow.pyfunc.model._save_model_with_class_artifacts_params(\n\u001b[0m\u001b[0;32m   1094\u001b[0m             \u001b[0mpath\u001b[0m\u001b[1;33m=\u001b[0m\u001b[0mpath\u001b[0m\u001b[1;33m,\u001b[0m\u001b[1;33m\u001b[0m\u001b[1;33m\u001b[0m\u001b[0m\n\u001b[0;32m   1095\u001b[0m             \u001b[0mpython_model\u001b[0m\u001b[1;33m=\u001b[0m\u001b[0mpython_model\u001b[0m\u001b[1;33m,\u001b[0m\u001b[1;33m\u001b[0m\u001b[1;33m\u001b[0m\u001b[0m\n",
      "\u001b[1;32mC:\\tools\\Anaconda3\\envs\\chassis-demo\\lib\\site-packages\\mlflow\\pyfunc\\model.py\u001b[0m in \u001b[0;36m_save_model_with_class_artifacts_params\u001b[1;34m(path, python_model, artifacts, conda_env, code_paths, mlflow_model, pip_requirements, extra_pip_requirements)\u001b[0m\n\u001b[0;32m    160\u001b[0m         \u001b[0msaved_python_model_subpath\u001b[0m \u001b[1;33m=\u001b[0m \u001b[1;34m\"python_model.pkl\"\u001b[0m\u001b[1;33m\u001b[0m\u001b[1;33m\u001b[0m\u001b[0m\n\u001b[0;32m    161\u001b[0m         \u001b[1;32mwith\u001b[0m \u001b[0mopen\u001b[0m\u001b[1;33m(\u001b[0m\u001b[0mos\u001b[0m\u001b[1;33m.\u001b[0m\u001b[0mpath\u001b[0m\u001b[1;33m.\u001b[0m\u001b[0mjoin\u001b[0m\u001b[1;33m(\u001b[0m\u001b[0mpath\u001b[0m\u001b[1;33m,\u001b[0m \u001b[0msaved_python_model_subpath\u001b[0m\u001b[1;33m)\u001b[0m\u001b[1;33m,\u001b[0m \u001b[1;34m\"wb\"\u001b[0m\u001b[1;33m)\u001b[0m \u001b[1;32mas\u001b[0m \u001b[0mout\u001b[0m\u001b[1;33m:\u001b[0m\u001b[1;33m\u001b[0m\u001b[1;33m\u001b[0m\u001b[0m\n\u001b[1;32m--> 162\u001b[1;33m             \u001b[0mcloudpickle\u001b[0m\u001b[1;33m.\u001b[0m\u001b[0mdump\u001b[0m\u001b[1;33m(\u001b[0m\u001b[0mpython_model\u001b[0m\u001b[1;33m,\u001b[0m \u001b[0mout\u001b[0m\u001b[1;33m)\u001b[0m\u001b[1;33m\u001b[0m\u001b[1;33m\u001b[0m\u001b[0m\n\u001b[0m\u001b[0;32m    163\u001b[0m         \u001b[0mcustom_model_config_kwargs\u001b[0m\u001b[1;33m[\u001b[0m\u001b[0mCONFIG_KEY_PYTHON_MODEL\u001b[0m\u001b[1;33m]\u001b[0m \u001b[1;33m=\u001b[0m \u001b[0msaved_python_model_subpath\u001b[0m\u001b[1;33m\u001b[0m\u001b[1;33m\u001b[0m\u001b[0m\n\u001b[0;32m    164\u001b[0m     \u001b[1;32melse\u001b[0m\u001b[1;33m:\u001b[0m\u001b[1;33m\u001b[0m\u001b[1;33m\u001b[0m\u001b[0m\n",
      "\u001b[1;32mC:\\tools\\Anaconda3\\envs\\chassis-demo\\lib\\site-packages\\cloudpickle\\cloudpickle_fast.py\u001b[0m in \u001b[0;36mdump\u001b[1;34m(obj, file, protocol, buffer_callback)\u001b[0m\n\u001b[0;32m     53\u001b[0m         \u001b[0mcompatibility\u001b[0m \u001b[1;32mwith\u001b[0m \u001b[0molder\u001b[0m \u001b[0mversions\u001b[0m \u001b[0mof\u001b[0m \u001b[0mPython\u001b[0m\u001b[1;33m.\u001b[0m\u001b[1;33m\u001b[0m\u001b[1;33m\u001b[0m\u001b[0m\n\u001b[0;32m     54\u001b[0m         \"\"\"\n\u001b[1;32m---> 55\u001b[1;33m         CloudPickler(\n\u001b[0m\u001b[0;32m     56\u001b[0m             \u001b[0mfile\u001b[0m\u001b[1;33m,\u001b[0m \u001b[0mprotocol\u001b[0m\u001b[1;33m=\u001b[0m\u001b[0mprotocol\u001b[0m\u001b[1;33m,\u001b[0m \u001b[0mbuffer_callback\u001b[0m\u001b[1;33m=\u001b[0m\u001b[0mbuffer_callback\u001b[0m\u001b[1;33m\u001b[0m\u001b[1;33m\u001b[0m\u001b[0m\n\u001b[0;32m     57\u001b[0m         ).dump(obj)\n",
      "\u001b[1;32mC:\\tools\\Anaconda3\\envs\\chassis-demo\\lib\\site-packages\\cloudpickle\\cloudpickle_fast.py\u001b[0m in \u001b[0;36mdump\u001b[1;34m(self, obj)\u001b[0m\n\u001b[0;32m    600\u001b[0m     \u001b[1;32mdef\u001b[0m \u001b[0mdump\u001b[0m\u001b[1;33m(\u001b[0m\u001b[0mself\u001b[0m\u001b[1;33m,\u001b[0m \u001b[0mobj\u001b[0m\u001b[1;33m)\u001b[0m\u001b[1;33m:\u001b[0m\u001b[1;33m\u001b[0m\u001b[1;33m\u001b[0m\u001b[0m\n\u001b[0;32m    601\u001b[0m         \u001b[1;32mtry\u001b[0m\u001b[1;33m:\u001b[0m\u001b[1;33m\u001b[0m\u001b[1;33m\u001b[0m\u001b[0m\n\u001b[1;32m--> 602\u001b[1;33m             \u001b[1;32mreturn\u001b[0m \u001b[0mPickler\u001b[0m\u001b[1;33m.\u001b[0m\u001b[0mdump\u001b[0m\u001b[1;33m(\u001b[0m\u001b[0mself\u001b[0m\u001b[1;33m,\u001b[0m \u001b[0mobj\u001b[0m\u001b[1;33m)\u001b[0m\u001b[1;33m\u001b[0m\u001b[1;33m\u001b[0m\u001b[0m\n\u001b[0m\u001b[0;32m    603\u001b[0m         \u001b[1;32mexcept\u001b[0m \u001b[0mRuntimeError\u001b[0m \u001b[1;32mas\u001b[0m \u001b[0me\u001b[0m\u001b[1;33m:\u001b[0m\u001b[1;33m\u001b[0m\u001b[1;33m\u001b[0m\u001b[0m\n\u001b[0;32m    604\u001b[0m             \u001b[1;32mif\u001b[0m \u001b[1;34m\"recursion\"\u001b[0m \u001b[1;32min\u001b[0m \u001b[0me\u001b[0m\u001b[1;33m.\u001b[0m\u001b[0margs\u001b[0m\u001b[1;33m[\u001b[0m\u001b[1;36m0\u001b[0m\u001b[1;33m]\u001b[0m\u001b[1;33m:\u001b[0m\u001b[1;33m\u001b[0m\u001b[1;33m\u001b[0m\u001b[0m\n",
      "\u001b[1;32mC:\\tools\\Anaconda3\\envs\\chassis-demo\\lib\\site-packages\\keras\\engine\\training.py\u001b[0m in \u001b[0;36m__reduce__\u001b[1;34m(self)\u001b[0m\n\u001b[0;32m    313\u001b[0m     \u001b[1;32mif\u001b[0m \u001b[0mself\u001b[0m\u001b[1;33m.\u001b[0m\u001b[0mbuilt\u001b[0m\u001b[1;33m:\u001b[0m\u001b[1;33m\u001b[0m\u001b[1;33m\u001b[0m\u001b[0m\n\u001b[0;32m    314\u001b[0m       return (pickle_utils.deserialize_model_from_bytecode,\n\u001b[1;32m--> 315\u001b[1;33m               pickle_utils.serialize_model_as_bytecode(self))\n\u001b[0m\u001b[0;32m    316\u001b[0m     \u001b[1;32melse\u001b[0m\u001b[1;33m:\u001b[0m\u001b[1;33m\u001b[0m\u001b[1;33m\u001b[0m\u001b[0m\n\u001b[0;32m    317\u001b[0m       \u001b[1;31m# SavedModel (and hence serialize_model_as_bytecode) only support\u001b[0m\u001b[1;33m\u001b[0m\u001b[1;33m\u001b[0m\u001b[1;33m\u001b[0m\u001b[0m\n",
      "\u001b[1;32mC:\\tools\\Anaconda3\\envs\\chassis-demo\\lib\\site-packages\\keras\\saving\\pickle_utils.py\u001b[0m in \u001b[0;36mserialize_model_as_bytecode\u001b[1;34m(model)\u001b[0m\n\u001b[0;32m     75\u001b[0m         \u001b[1;32mwith\u001b[0m \u001b[0mtf\u001b[0m\u001b[1;33m.\u001b[0m\u001b[0mio\u001b[0m\u001b[1;33m.\u001b[0m\u001b[0mgfile\u001b[0m\u001b[1;33m.\u001b[0m\u001b[0mGFile\u001b[0m\u001b[1;33m(\u001b[0m\u001b[0mdest_path\u001b[0m\u001b[1;33m,\u001b[0m \u001b[1;34m\"rb\"\u001b[0m\u001b[1;33m)\u001b[0m \u001b[1;32mas\u001b[0m \u001b[0mf\u001b[0m\u001b[1;33m:\u001b[0m\u001b[1;33m\u001b[0m\u001b[1;33m\u001b[0m\u001b[0m\n\u001b[0;32m     76\u001b[0m           \u001b[0minfo\u001b[0m \u001b[1;33m=\u001b[0m \u001b[0mtarfile\u001b[0m\u001b[1;33m.\u001b[0m\u001b[0mTarInfo\u001b[0m\u001b[1;33m(\u001b[0m\u001b[0mname\u001b[0m\u001b[1;33m=\u001b[0m\u001b[0mos\u001b[0m\u001b[1;33m.\u001b[0m\u001b[0mpath\u001b[0m\u001b[1;33m.\u001b[0m\u001b[0mrelpath\u001b[0m\u001b[1;33m(\u001b[0m\u001b[0mdest_path\u001b[0m\u001b[1;33m,\u001b[0m \u001b[0mtemp_dir\u001b[0m\u001b[1;33m)\u001b[0m\u001b[1;33m)\u001b[0m\u001b[1;33m\u001b[0m\u001b[1;33m\u001b[0m\u001b[0m\n\u001b[1;32m---> 77\u001b[1;33m           \u001b[0minfo\u001b[0m\u001b[1;33m.\u001b[0m\u001b[0msize\u001b[0m \u001b[1;33m=\u001b[0m \u001b[0mf\u001b[0m\u001b[1;33m.\u001b[0m\u001b[0msize\u001b[0m\u001b[1;33m(\u001b[0m\u001b[1;33m)\u001b[0m\u001b[1;33m\u001b[0m\u001b[1;33m\u001b[0m\u001b[0m\n\u001b[0m\u001b[0;32m     78\u001b[0m           \u001b[0marchive\u001b[0m\u001b[1;33m.\u001b[0m\u001b[0maddfile\u001b[0m\u001b[1;33m(\u001b[0m\u001b[0mtarinfo\u001b[0m\u001b[1;33m=\u001b[0m\u001b[0minfo\u001b[0m\u001b[1;33m,\u001b[0m \u001b[0mfileobj\u001b[0m\u001b[1;33m=\u001b[0m\u001b[0mf\u001b[0m\u001b[1;33m)\u001b[0m\u001b[1;33m\u001b[0m\u001b[1;33m\u001b[0m\u001b[0m\n\u001b[0;32m     79\u001b[0m   \u001b[0mtf\u001b[0m\u001b[1;33m.\u001b[0m\u001b[0mio\u001b[0m\u001b[1;33m.\u001b[0m\u001b[0mgfile\u001b[0m\u001b[1;33m.\u001b[0m\u001b[0mrmtree\u001b[0m\u001b[1;33m(\u001b[0m\u001b[0mtemp_dir\u001b[0m\u001b[1;33m)\u001b[0m\u001b[1;33m\u001b[0m\u001b[1;33m\u001b[0m\u001b[0m\n",
      "\u001b[1;32mC:\\tools\\Anaconda3\\envs\\chassis-demo\\lib\\site-packages\\tensorflow\\python\\lib\\io\\file_io.py\u001b[0m in \u001b[0;36msize\u001b[1;34m(self)\u001b[0m\n\u001b[0;32m     97\u001b[0m   \u001b[1;32mdef\u001b[0m \u001b[0msize\u001b[0m\u001b[1;33m(\u001b[0m\u001b[0mself\u001b[0m\u001b[1;33m)\u001b[0m\u001b[1;33m:\u001b[0m\u001b[1;33m\u001b[0m\u001b[1;33m\u001b[0m\u001b[0m\n\u001b[0;32m     98\u001b[0m     \u001b[1;34m\"\"\"Returns the size of the file.\"\"\"\u001b[0m\u001b[1;33m\u001b[0m\u001b[1;33m\u001b[0m\u001b[0m\n\u001b[1;32m---> 99\u001b[1;33m     \u001b[1;32mreturn\u001b[0m \u001b[0mstat\u001b[0m\u001b[1;33m(\u001b[0m\u001b[0mself\u001b[0m\u001b[1;33m.\u001b[0m\u001b[0m__name\u001b[0m\u001b[1;33m)\u001b[0m\u001b[1;33m.\u001b[0m\u001b[0mlength\u001b[0m\u001b[1;33m\u001b[0m\u001b[1;33m\u001b[0m\u001b[0m\n\u001b[0m\u001b[0;32m    100\u001b[0m \u001b[1;33m\u001b[0m\u001b[0m\n\u001b[0;32m    101\u001b[0m   \u001b[1;32mdef\u001b[0m \u001b[0mwrite\u001b[0m\u001b[1;33m(\u001b[0m\u001b[0mself\u001b[0m\u001b[1;33m,\u001b[0m \u001b[0mfile_content\u001b[0m\u001b[1;33m)\u001b[0m\u001b[1;33m:\u001b[0m\u001b[1;33m\u001b[0m\u001b[1;33m\u001b[0m\u001b[0m\n",
      "\u001b[1;32mC:\\tools\\Anaconda3\\envs\\chassis-demo\\lib\\site-packages\\tensorflow\\python\\lib\\io\\file_io.py\u001b[0m in \u001b[0;36mstat\u001b[1;34m(filename)\u001b[0m\n\u001b[0;32m    908\u001b[0m     \u001b[0merrors\u001b[0m\u001b[1;33m.\u001b[0m\u001b[0mOpError\u001b[0m\u001b[1;33m:\u001b[0m \u001b[0mIf\u001b[0m \u001b[0mthe\u001b[0m \u001b[0moperation\u001b[0m \u001b[0mfails\u001b[0m\u001b[1;33m.\u001b[0m\u001b[1;33m\u001b[0m\u001b[1;33m\u001b[0m\u001b[0m\n\u001b[0;32m    909\u001b[0m   \"\"\"\n\u001b[1;32m--> 910\u001b[1;33m   \u001b[1;32mreturn\u001b[0m \u001b[0mstat_v2\u001b[0m\u001b[1;33m(\u001b[0m\u001b[0mfilename\u001b[0m\u001b[1;33m)\u001b[0m\u001b[1;33m\u001b[0m\u001b[1;33m\u001b[0m\u001b[0m\n\u001b[0m\u001b[0;32m    911\u001b[0m \u001b[1;33m\u001b[0m\u001b[0m\n\u001b[0;32m    912\u001b[0m \u001b[1;33m\u001b[0m\u001b[0m\n",
      "\u001b[1;32mC:\\tools\\Anaconda3\\envs\\chassis-demo\\lib\\site-packages\\tensorflow\\python\\lib\\io\\file_io.py\u001b[0m in \u001b[0;36mstat_v2\u001b[1;34m(path)\u001b[0m\n\u001b[0;32m    924\u001b[0m     \u001b[0merrors\u001b[0m\u001b[1;33m.\u001b[0m\u001b[0mOpError\u001b[0m\u001b[1;33m:\u001b[0m \u001b[0mIf\u001b[0m \u001b[0mthe\u001b[0m \u001b[0moperation\u001b[0m \u001b[0mfails\u001b[0m\u001b[1;33m.\u001b[0m\u001b[1;33m\u001b[0m\u001b[1;33m\u001b[0m\u001b[0m\n\u001b[0;32m    925\u001b[0m   \"\"\"\n\u001b[1;32m--> 926\u001b[1;33m   \u001b[1;32mreturn\u001b[0m \u001b[0m_pywrap_file_io\u001b[0m\u001b[1;33m.\u001b[0m\u001b[0mStat\u001b[0m\u001b[1;33m(\u001b[0m\u001b[0mcompat\u001b[0m\u001b[1;33m.\u001b[0m\u001b[0mpath_to_str\u001b[0m\u001b[1;33m(\u001b[0m\u001b[0mpath\u001b[0m\u001b[1;33m)\u001b[0m\u001b[1;33m)\u001b[0m\u001b[1;33m\u001b[0m\u001b[1;33m\u001b[0m\u001b[0m\n\u001b[0m\u001b[0;32m    927\u001b[0m \u001b[1;33m\u001b[0m\u001b[0m\n\u001b[0;32m    928\u001b[0m \u001b[1;33m\u001b[0m\u001b[0m\n",
      "\u001b[1;31mNotFoundError\u001b[0m: "
     ]
    }
   ],
   "source": [
    "# test environment and model within Chassis service, must pass filepath here:\n",
    "test_env_result = chassis_model.test_env(sample_filepath)\n",
    "print(test_env_result)"
   ]
  },
  {
   "cell_type": "markdown",
   "metadata": {},
   "source": [
    "## Publish model to Modzy\n",
    "Need to provide model name, model version, Dockerhub credentials, and required Modzy info"
   ]
  },
  {
   "cell_type": "code",
   "execution_count": 28,
   "metadata": {},
   "outputs": [
    {
     "name": "stdout",
     "output_type": "stream",
     "text": [
      "INFO:tensorflow:Assets written to: ram://3c8f8450-4f10-437a-b1c4-ab8d8d9da3bb/assets\n",
      "\n"
     ]
    },
    {
     "ename": "UnboundLocalError",
     "evalue": "local variable 'tmppath' referenced before assignment",
     "output_type": "error",
     "traceback": [
      "\u001b[1;31m---------------------------------------------------------------------------\u001b[0m",
      "\u001b[1;31mNotFoundError\u001b[0m                             Traceback (most recent call last)",
      "\u001b[1;32m~\\AppData\\Roaming\\Python\\Python38\\site-packages\\chassisml\\chassisml.py\u001b[0m in \u001b[0;36mpublish\u001b[1;34m(self, model_name, model_version, registry_user, registry_pass, conda_env, fix_env, modzy_sample_input_path, modzy_api_key)\u001b[0m\n\u001b[0;32m    109\u001b[0m             \u001b[0mmodel_directory\u001b[0m \u001b[1;33m=\u001b[0m \u001b[0mos\u001b[0m\u001b[1;33m.\u001b[0m\u001b[0mpath\u001b[0m\u001b[1;33m.\u001b[0m\u001b[0mjoin\u001b[0m\u001b[1;33m(\u001b[0m\u001b[0mtempfile\u001b[0m\u001b[1;33m.\u001b[0m\u001b[0mmkdtemp\u001b[0m\u001b[1;33m(\u001b[0m\u001b[1;33m)\u001b[0m\u001b[1;33m,\u001b[0m\u001b[0mCHASSIS_TMP_DIRNAME\u001b[0m\u001b[1;33m)\u001b[0m\u001b[1;33m\u001b[0m\u001b[1;33m\u001b[0m\u001b[0m\n\u001b[1;32m--> 110\u001b[1;33m             mlflow.pyfunc.save_model(path=model_directory, python_model=self, conda_env=conda_env, \n\u001b[0m\u001b[0;32m    111\u001b[0m                                     extra_pip_requirements = None if conda_env else [\"chassisml=={}\".format(__version__)])\n",
      "\u001b[1;32mC:\\tools\\Anaconda3\\envs\\chassis-demo\\lib\\site-packages\\mlflow\\pyfunc\\__init__.py\u001b[0m in \u001b[0;36msave_model\u001b[1;34m(path, loader_module, data_path, code_path, conda_env, mlflow_model, python_model, artifacts, signature, input_example, pip_requirements, extra_pip_requirements, **kwargs)\u001b[0m\n\u001b[0;32m   1092\u001b[0m     \u001b[1;32melif\u001b[0m \u001b[0msecond_argument_set_specified\u001b[0m\u001b[1;33m:\u001b[0m\u001b[1;33m\u001b[0m\u001b[1;33m\u001b[0m\u001b[0m\n\u001b[1;32m-> 1093\u001b[1;33m         return mlflow.pyfunc.model._save_model_with_class_artifacts_params(\n\u001b[0m\u001b[0;32m   1094\u001b[0m             \u001b[0mpath\u001b[0m\u001b[1;33m=\u001b[0m\u001b[0mpath\u001b[0m\u001b[1;33m,\u001b[0m\u001b[1;33m\u001b[0m\u001b[1;33m\u001b[0m\u001b[0m\n",
      "\u001b[1;32mC:\\tools\\Anaconda3\\envs\\chassis-demo\\lib\\site-packages\\mlflow\\pyfunc\\model.py\u001b[0m in \u001b[0;36m_save_model_with_class_artifacts_params\u001b[1;34m(path, python_model, artifacts, conda_env, code_paths, mlflow_model, pip_requirements, extra_pip_requirements)\u001b[0m\n\u001b[0;32m    161\u001b[0m         \u001b[1;32mwith\u001b[0m \u001b[0mopen\u001b[0m\u001b[1;33m(\u001b[0m\u001b[0mos\u001b[0m\u001b[1;33m.\u001b[0m\u001b[0mpath\u001b[0m\u001b[1;33m.\u001b[0m\u001b[0mjoin\u001b[0m\u001b[1;33m(\u001b[0m\u001b[0mpath\u001b[0m\u001b[1;33m,\u001b[0m \u001b[0msaved_python_model_subpath\u001b[0m\u001b[1;33m)\u001b[0m\u001b[1;33m,\u001b[0m \u001b[1;34m\"wb\"\u001b[0m\u001b[1;33m)\u001b[0m \u001b[1;32mas\u001b[0m \u001b[0mout\u001b[0m\u001b[1;33m:\u001b[0m\u001b[1;33m\u001b[0m\u001b[1;33m\u001b[0m\u001b[0m\n\u001b[1;32m--> 162\u001b[1;33m             \u001b[0mcloudpickle\u001b[0m\u001b[1;33m.\u001b[0m\u001b[0mdump\u001b[0m\u001b[1;33m(\u001b[0m\u001b[0mpython_model\u001b[0m\u001b[1;33m,\u001b[0m \u001b[0mout\u001b[0m\u001b[1;33m)\u001b[0m\u001b[1;33m\u001b[0m\u001b[1;33m\u001b[0m\u001b[0m\n\u001b[0m\u001b[0;32m    163\u001b[0m         \u001b[0mcustom_model_config_kwargs\u001b[0m\u001b[1;33m[\u001b[0m\u001b[0mCONFIG_KEY_PYTHON_MODEL\u001b[0m\u001b[1;33m]\u001b[0m \u001b[1;33m=\u001b[0m \u001b[0msaved_python_model_subpath\u001b[0m\u001b[1;33m\u001b[0m\u001b[1;33m\u001b[0m\u001b[0m\n",
      "\u001b[1;32mC:\\tools\\Anaconda3\\envs\\chassis-demo\\lib\\site-packages\\cloudpickle\\cloudpickle_fast.py\u001b[0m in \u001b[0;36mdump\u001b[1;34m(obj, file, protocol, buffer_callback)\u001b[0m\n\u001b[0;32m     54\u001b[0m         \"\"\"\n\u001b[1;32m---> 55\u001b[1;33m         CloudPickler(\n\u001b[0m\u001b[0;32m     56\u001b[0m             \u001b[0mfile\u001b[0m\u001b[1;33m,\u001b[0m \u001b[0mprotocol\u001b[0m\u001b[1;33m=\u001b[0m\u001b[0mprotocol\u001b[0m\u001b[1;33m,\u001b[0m \u001b[0mbuffer_callback\u001b[0m\u001b[1;33m=\u001b[0m\u001b[0mbuffer_callback\u001b[0m\u001b[1;33m\u001b[0m\u001b[1;33m\u001b[0m\u001b[0m\n",
      "\u001b[1;32mC:\\tools\\Anaconda3\\envs\\chassis-demo\\lib\\site-packages\\cloudpickle\\cloudpickle_fast.py\u001b[0m in \u001b[0;36mdump\u001b[1;34m(self, obj)\u001b[0m\n\u001b[0;32m    601\u001b[0m         \u001b[1;32mtry\u001b[0m\u001b[1;33m:\u001b[0m\u001b[1;33m\u001b[0m\u001b[1;33m\u001b[0m\u001b[0m\n\u001b[1;32m--> 602\u001b[1;33m             \u001b[1;32mreturn\u001b[0m \u001b[0mPickler\u001b[0m\u001b[1;33m.\u001b[0m\u001b[0mdump\u001b[0m\u001b[1;33m(\u001b[0m\u001b[0mself\u001b[0m\u001b[1;33m,\u001b[0m \u001b[0mobj\u001b[0m\u001b[1;33m)\u001b[0m\u001b[1;33m\u001b[0m\u001b[1;33m\u001b[0m\u001b[0m\n\u001b[0m\u001b[0;32m    603\u001b[0m         \u001b[1;32mexcept\u001b[0m \u001b[0mRuntimeError\u001b[0m \u001b[1;32mas\u001b[0m \u001b[0me\u001b[0m\u001b[1;33m:\u001b[0m\u001b[1;33m\u001b[0m\u001b[1;33m\u001b[0m\u001b[0m\n",
      "\u001b[1;32mC:\\tools\\Anaconda3\\envs\\chassis-demo\\lib\\site-packages\\keras\\engine\\training.py\u001b[0m in \u001b[0;36m__reduce__\u001b[1;34m(self)\u001b[0m\n\u001b[0;32m    314\u001b[0m       return (pickle_utils.deserialize_model_from_bytecode,\n\u001b[1;32m--> 315\u001b[1;33m               pickle_utils.serialize_model_as_bytecode(self))\n\u001b[0m\u001b[0;32m    316\u001b[0m     \u001b[1;32melse\u001b[0m\u001b[1;33m:\u001b[0m\u001b[1;33m\u001b[0m\u001b[1;33m\u001b[0m\u001b[0m\n",
      "\u001b[1;32mC:\\tools\\Anaconda3\\envs\\chassis-demo\\lib\\site-packages\\keras\\saving\\pickle_utils.py\u001b[0m in \u001b[0;36mserialize_model_as_bytecode\u001b[1;34m(model)\u001b[0m\n\u001b[0;32m     76\u001b[0m           \u001b[0minfo\u001b[0m \u001b[1;33m=\u001b[0m \u001b[0mtarfile\u001b[0m\u001b[1;33m.\u001b[0m\u001b[0mTarInfo\u001b[0m\u001b[1;33m(\u001b[0m\u001b[0mname\u001b[0m\u001b[1;33m=\u001b[0m\u001b[0mos\u001b[0m\u001b[1;33m.\u001b[0m\u001b[0mpath\u001b[0m\u001b[1;33m.\u001b[0m\u001b[0mrelpath\u001b[0m\u001b[1;33m(\u001b[0m\u001b[0mdest_path\u001b[0m\u001b[1;33m,\u001b[0m \u001b[0mtemp_dir\u001b[0m\u001b[1;33m)\u001b[0m\u001b[1;33m)\u001b[0m\u001b[1;33m\u001b[0m\u001b[1;33m\u001b[0m\u001b[0m\n\u001b[1;32m---> 77\u001b[1;33m           \u001b[0minfo\u001b[0m\u001b[1;33m.\u001b[0m\u001b[0msize\u001b[0m \u001b[1;33m=\u001b[0m \u001b[0mf\u001b[0m\u001b[1;33m.\u001b[0m\u001b[0msize\u001b[0m\u001b[1;33m(\u001b[0m\u001b[1;33m)\u001b[0m\u001b[1;33m\u001b[0m\u001b[1;33m\u001b[0m\u001b[0m\n\u001b[0m\u001b[0;32m     78\u001b[0m           \u001b[0marchive\u001b[0m\u001b[1;33m.\u001b[0m\u001b[0maddfile\u001b[0m\u001b[1;33m(\u001b[0m\u001b[0mtarinfo\u001b[0m\u001b[1;33m=\u001b[0m\u001b[0minfo\u001b[0m\u001b[1;33m,\u001b[0m \u001b[0mfileobj\u001b[0m\u001b[1;33m=\u001b[0m\u001b[0mf\u001b[0m\u001b[1;33m)\u001b[0m\u001b[1;33m\u001b[0m\u001b[1;33m\u001b[0m\u001b[0m\n",
      "\u001b[1;32mC:\\tools\\Anaconda3\\envs\\chassis-demo\\lib\\site-packages\\tensorflow\\python\\lib\\io\\file_io.py\u001b[0m in \u001b[0;36msize\u001b[1;34m(self)\u001b[0m\n\u001b[0;32m     98\u001b[0m     \u001b[1;34m\"\"\"Returns the size of the file.\"\"\"\u001b[0m\u001b[1;33m\u001b[0m\u001b[1;33m\u001b[0m\u001b[0m\n\u001b[1;32m---> 99\u001b[1;33m     \u001b[1;32mreturn\u001b[0m \u001b[0mstat\u001b[0m\u001b[1;33m(\u001b[0m\u001b[0mself\u001b[0m\u001b[1;33m.\u001b[0m\u001b[0m__name\u001b[0m\u001b[1;33m)\u001b[0m\u001b[1;33m.\u001b[0m\u001b[0mlength\u001b[0m\u001b[1;33m\u001b[0m\u001b[1;33m\u001b[0m\u001b[0m\n\u001b[0m\u001b[0;32m    100\u001b[0m \u001b[1;33m\u001b[0m\u001b[0m\n",
      "\u001b[1;32mC:\\tools\\Anaconda3\\envs\\chassis-demo\\lib\\site-packages\\tensorflow\\python\\lib\\io\\file_io.py\u001b[0m in \u001b[0;36mstat\u001b[1;34m(filename)\u001b[0m\n\u001b[0;32m    909\u001b[0m   \"\"\"\n\u001b[1;32m--> 910\u001b[1;33m   \u001b[1;32mreturn\u001b[0m \u001b[0mstat_v2\u001b[0m\u001b[1;33m(\u001b[0m\u001b[0mfilename\u001b[0m\u001b[1;33m)\u001b[0m\u001b[1;33m\u001b[0m\u001b[1;33m\u001b[0m\u001b[0m\n\u001b[0m\u001b[0;32m    911\u001b[0m \u001b[1;33m\u001b[0m\u001b[0m\n",
      "\u001b[1;32mC:\\tools\\Anaconda3\\envs\\chassis-demo\\lib\\site-packages\\tensorflow\\python\\lib\\io\\file_io.py\u001b[0m in \u001b[0;36mstat_v2\u001b[1;34m(path)\u001b[0m\n\u001b[0;32m    925\u001b[0m   \"\"\"\n\u001b[1;32m--> 926\u001b[1;33m   \u001b[1;32mreturn\u001b[0m \u001b[0m_pywrap_file_io\u001b[0m\u001b[1;33m.\u001b[0m\u001b[0mStat\u001b[0m\u001b[1;33m(\u001b[0m\u001b[0mcompat\u001b[0m\u001b[1;33m.\u001b[0m\u001b[0mpath_to_str\u001b[0m\u001b[1;33m(\u001b[0m\u001b[0mpath\u001b[0m\u001b[1;33m)\u001b[0m\u001b[1;33m)\u001b[0m\u001b[1;33m\u001b[0m\u001b[1;33m\u001b[0m\u001b[0m\n\u001b[0m\u001b[0;32m    927\u001b[0m \u001b[1;33m\u001b[0m\u001b[0m\n",
      "\u001b[1;31mNotFoundError\u001b[0m: ",
      "\nDuring handling of the above exception, another exception occurred:\n",
      "\u001b[1;31mUnboundLocalError\u001b[0m                         Traceback (most recent call last)",
      "\u001b[1;32mC:\\Users\\BRADLE~1\\AppData\\Local\\Temp/ipykernel_24872/2624771302.py\u001b[0m in \u001b[0;36m<module>\u001b[1;34m\u001b[0m\n\u001b[1;32m----> 1\u001b[1;33m response = chassis_model.publish(\n\u001b[0m\u001b[0;32m      2\u001b[0m     \u001b[0mmodel_name\u001b[0m\u001b[1;33m=\u001b[0m\u001b[1;34m\"Keras Credit Card Fraud Classification\"\u001b[0m\u001b[1;33m,\u001b[0m\u001b[1;33m\u001b[0m\u001b[1;33m\u001b[0m\u001b[0m\n\u001b[0;32m      3\u001b[0m     \u001b[0mmodel_version\u001b[0m\u001b[1;33m=\u001b[0m\u001b[1;34m\"0.0.1\"\u001b[0m\u001b[1;33m,\u001b[0m\u001b[1;33m\u001b[0m\u001b[1;33m\u001b[0m\u001b[0m\n\u001b[0;32m      4\u001b[0m     \u001b[0mregistry_user\u001b[0m\u001b[1;33m=\u001b[0m\u001b[0mdockerhub_user\u001b[0m\u001b[1;33m,\u001b[0m\u001b[1;33m\u001b[0m\u001b[1;33m\u001b[0m\u001b[0m\n\u001b[0;32m      5\u001b[0m     \u001b[0mregistry_pass\u001b[0m\u001b[1;33m=\u001b[0m\u001b[0mdockerhub_pass\u001b[0m\u001b[1;33m,\u001b[0m\u001b[1;33m\u001b[0m\u001b[1;33m\u001b[0m\u001b[0m\n",
      "\u001b[1;32m~\\AppData\\Roaming\\Python\\Python38\\site-packages\\chassisml\\chassisml.py\u001b[0m in \u001b[0;36mpublish\u001b[1;34m(self, model_name, model_version, registry_user, registry_pass, conda_env, fix_env, modzy_sample_input_path, modzy_api_key)\u001b[0m\n\u001b[0;32m    169\u001b[0m         \u001b[1;32mexcept\u001b[0m \u001b[0mException\u001b[0m \u001b[1;32mas\u001b[0m \u001b[0me\u001b[0m\u001b[1;33m:\u001b[0m\u001b[1;33m\u001b[0m\u001b[1;33m\u001b[0m\u001b[0m\n\u001b[0;32m    170\u001b[0m             \u001b[0mprint\u001b[0m\u001b[1;33m(\u001b[0m\u001b[0me\u001b[0m\u001b[1;33m)\u001b[0m\u001b[1;33m\u001b[0m\u001b[1;33m\u001b[0m\u001b[0m\n\u001b[1;32m--> 171\u001b[1;33m             \u001b[1;32mif\u001b[0m \u001b[0mos\u001b[0m\u001b[1;33m.\u001b[0m\u001b[0mpath\u001b[0m\u001b[1;33m.\u001b[0m\u001b[0mexists\u001b[0m\u001b[1;33m(\u001b[0m\u001b[0mtmppath\u001b[0m\u001b[1;33m)\u001b[0m\u001b[1;33m:\u001b[0m\u001b[1;33m\u001b[0m\u001b[1;33m\u001b[0m\u001b[0m\n\u001b[0m\u001b[0;32m    172\u001b[0m                 \u001b[0mshutil\u001b[0m\u001b[1;33m.\u001b[0m\u001b[0mrmtree\u001b[0m\u001b[1;33m(\u001b[0m\u001b[0mtmppath\u001b[0m\u001b[1;33m)\u001b[0m\u001b[1;33m\u001b[0m\u001b[1;33m\u001b[0m\u001b[0m\n\u001b[0;32m    173\u001b[0m             \u001b[1;32mif\u001b[0m \u001b[0mos\u001b[0m\u001b[1;33m.\u001b[0m\u001b[0mpath\u001b[0m\u001b[1;33m.\u001b[0m\u001b[0mexists\u001b[0m\u001b[1;33m(\u001b[0m\u001b[0mmodel_directory\u001b[0m\u001b[1;33m)\u001b[0m\u001b[1;33m:\u001b[0m\u001b[1;33m\u001b[0m\u001b[1;33m\u001b[0m\u001b[0m\n",
      "\u001b[1;31mUnboundLocalError\u001b[0m: local variable 'tmppath' referenced before assignment"
     ]
    }
   ],
   "source": [
    "response = chassis_model.publish(\n",
    "    model_name=\"Keras Credit Card Fraud Classification\",\n",
    "    model_version=\"0.0.1\",\n",
    "    registry_user=dockerhub_user,\n",
    "    registry_pass=dockerhub_pass,\n",
    "    modzy_sample_input_path=sample_filepath,\n",
    "    modzy_api_key=modzy_api_key\n",
    ")\n",
    "\n",
    "job_id = response.get('job_id')\n",
    "final_status = chassis_client.block_until_complete(job_id)"
   ]
  },
  {
   "cell_type": "code",
   "execution_count": null,
   "metadata": {},
   "outputs": [],
   "source": [
    "if chassis_client.get_job_status(job_id)[\"result\"] is not None:\n",
    "    print(\"New model URL: {}\".format(chassis_client.get_job_status(job_id)[\"result\"][\"container_url\"]))\n",
    "else:\n",
    "    print(\"Chassis job failed \\n\\n {}\".format(chassis_client.get_job_status(job_id)))"
   ]
  },
  {
   "cell_type": "markdown",
   "metadata": {},
   "source": [
    "## Run sample job\n",
    "Submit inference job to our newly-deploy model running on Modzy"
   ]
  },
  {
   "cell_type": "code",
   "execution_count": null,
   "metadata": {},
   "outputs": [],
   "source": [
    "from modzy import ApiClient\n",
    "\n",
    "client = ApiClient(base_url='https://integration.modzy.engineering/api', api_key=modzy_api_key)\n",
    "\n",
    "input_name = final_status['result']['inputs'][0]['name']\n",
    "model_id = final_status['result'].get(\"model\").get(\"modelId\")\n",
    "model_version = final_status['result'].get(\"version\")\n",
    "\n",
    "inference_job = client.jobs.submit_file(model_id, model_version, {input_name: sample_filepath})\n",
    "inference_job_result = client.results.block_until_complete(inference_job, timeout=None)\n",
    "inference_job_results_json = inference_job_result.get_first_outputs()['results.json']\n",
    "print(inference_job_results_json)"
   ]
  },
  {
   "cell_type": "code",
   "execution_count": null,
   "metadata": {},
   "outputs": [],
   "source": []
  }
 ],
 "metadata": {
  "interpreter": {
   "hash": "95ab8d3bdd708a5b71676285742277315a30b0df1ed91c8905076616709c59d5"
  },
  "kernelspec": {
   "display_name": "chassis-demo",
   "language": "python",
   "name": "chassis-demo"
  },
  "language_info": {
   "codemirror_mode": {
    "name": "ipython",
    "version": 3
   },
   "file_extension": ".py",
   "mimetype": "text/x-python",
   "name": "python",
   "nbconvert_exporter": "python",
   "pygments_lexer": "ipython3",
   "version": "3.8.5"
  }
 },
 "nbformat": 4,
 "nbformat_minor": 2
}
