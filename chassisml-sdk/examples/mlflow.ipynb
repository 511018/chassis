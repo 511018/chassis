{
 "cells": [
  {
   "cell_type": "markdown",
   "id": "outstanding-dimension",
   "metadata": {},
   "source": [
    "# Chassis.ml demo\n",
    "\n",
    "## Easily build MLflow models into {KFServing, Modzy} Docker images"
   ]
  },
  {
   "cell_type": "markdown",
   "id": "arctic-original",
   "metadata": {},
   "source": [
    "This demo will show you how we can train a model, define custom pre- and post-processing steps, save it in MLflow format and then build it into a container image and push it to docker hub with a single command.\n",
    "\n",
    "By easily connecting MLflow models to Docker images with a simple Python SDK for data scientists & ML engineers, Chassis is the missing link between MLflow and DevOps.\n",
    "\n",
    "This demo can be run in local using minikube and a local installation of Chassis.\n",
    "\n",
    "## Prerequisites\n",
    "\n",
    "* [Docker Hub](https://hub.docker.com/) account (free one is fine)\n",
    "* The browser you're reading this in :-)\n",
    "* Existing local installation of Chassis"
   ]
  },
  {
   "cell_type": "code",
   "execution_count": 1,
   "id": "a37fa609",
   "metadata": {},
   "outputs": [],
   "source": [
    "import chassisml\n",
    "import sklearn\n",
    "import mlflow.pyfunc\n",
    "from joblib import dump, load"
   ]
  },
  {
   "cell_type": "markdown",
   "id": "approximate-summary",
   "metadata": {},
   "source": [
    "### Train the model\n",
    "\n",
    "This will train a sklearn model and it will be saved as a joblib file inside the `model` directory.\n",
    "\n",
    "The goal for Chassis service is to create an image that exposes this model."
   ]
  },
  {
   "cell_type": "code",
   "execution_count": 2,
   "id": "f0bd3c2b",
   "metadata": {},
   "outputs": [
    {
     "data": {
      "text/plain": [
       "['./model.joblib']"
      ]
     },
     "execution_count": 2,
     "metadata": {},
     "output_type": "execute_result"
    }
   ],
   "source": [
    "from sklearn import datasets, svm\n",
    "from sklearn.model_selection import train_test_split\n",
    "\n",
    "digits = datasets.load_digits()\n",
    "data = digits.images.reshape((len(digits.images), -1))\n",
    "\n",
    "# Create a classifier: a support vector classifier\n",
    "clf = svm.SVC(gamma=0.001)\n",
    "\n",
    "# Split data into 50% train and 50% test subsets\n",
    "X_train, X_test, y_train, y_test = train_test_split(\n",
    "    data, digits.target, test_size=0.5, shuffle=False)\n",
    "\n",
    "# Learn the digits on the train subset\n",
    "clf.fit(X_train, y_train)\n",
    "dump(clf, './model.joblib')"
   ]
  },
  {
   "cell_type": "code",
   "execution_count": 7,
   "id": "04f23438",
   "metadata": {
    "pycharm": {
     "name": "#%%\n"
    }
   },
   "outputs": [],
   "source": [
    "# Wrap your model in a pyfunc and provide auxiliary functionality through extension of the\n",
    "# mlflow PythonModel class with methods pre_process, post_process, and explain\n",
    "\n",
    "class CustomModel(mlflow.pyfunc.PythonModel):\n",
    "    _model = load('./model.joblib')\n",
    "    \n",
    "    def load_context(self, context):\n",
    "        self.model = self._model\n",
    "\n",
    "    def predict(self, context, input_dict):\n",
    "        processed_inputs = self.pre_process(input_dict['input_data_bytes'])\n",
    "        inference_results = self.model.predict(processed_inputs)\n",
    "        return self.post_process(inference_results)\n",
    "\n",
    "    def pre_process(self, input_bytes):\n",
    "        import json\n",
    "        import numpy as np\n",
    "        inputs = np.array(json.loads(input_bytes))\n",
    "        return inputs / 2\n",
    "\n",
    "    def post_process(self, inference_results):\n",
    "        structured_results = []\n",
    "        for inference_result in inference_results:\n",
    "            inference_result = {\n",
    "                \"classPredictions\": [\n",
    "                    {\"class\": str(inference_result), \"score\": str(1)}\n",
    "                ]\n",
    "            }\n",
    "            structured_output = {\n",
    "                \"data\": {\n",
    "                    \"result\": inference_result,\n",
    "                    \"explanation\": None,\n",
    "                    \"drift\": None,\n",
    "                }\n",
    "            }\n",
    "            structured_results.append(structured_output)\n",
    "        return structured_results\n",
    "\n",
    "    def explain(self, images):\n",
    "        pass"
   ]
  },
  {
   "cell_type": "code",
   "execution_count": 8,
   "id": "9d3f74bf",
   "metadata": {
    "pycharm": {
     "name": "#%%\n"
    }
   },
   "outputs": [],
   "source": [
    "# Define conda environment with all required dependencies for your model\n",
    "\n",
    "conda_env = {\n",
    "    \"channels\": [\"defaults\", \"conda-forge\", \"pytorch\"],\n",
    "    \"dependencies\": [\n",
    "        \"python=3.8.5\",\n",
    "        \"pip\",\n",
    "        {\n",
    "            \"pip\": [\n",
    "                \"mlflow\",\n",
    "                \"sklearn\"\n",
    "            ],\n",
    "        },\n",
    "    ],\n",
    "    \"name\": \"linear_env\"\n",
    "}"
   ]
  },
  {
   "cell_type": "markdown",
   "id": "144cda6c",
   "metadata": {},
   "source": [
    "### Save the model\n",
    "\n",
    "Transform the model into MLFlow format."
   ]
  },
  {
   "cell_type": "code",
   "execution_count": 28,
   "id": "abedf16f",
   "metadata": {},
   "outputs": [],
   "source": [
    "!rm -rf mlflow_custom_pyfunc_svm\n",
    "model_save_path = \"mlflow_custom_pyfunc_svm\"\n",
    "mlflow.pyfunc.save_model(path=model_save_path, python_model=CustomModel(), conda_env=conda_env)"
   ]
  },
  {
   "cell_type": "markdown",
   "id": "1c819be5",
   "metadata": {},
   "source": [
    "Load the MLFlow model and test it."
   ]
  },
  {
   "cell_type": "code",
   "execution_count": 10,
   "id": "ac440385",
   "metadata": {
    "pycharm": {
     "name": "#%%\n"
    }
   },
   "outputs": [
    {
     "name": "stdout",
     "output_type": "stream",
     "text": [
      "[\n",
      "    {\n",
      "        \"data\": {\n",
      "            \"result\": {\n",
      "                \"classPredictions\": [\n",
      "                    {\n",
      "                        \"class\": \"4\",\n",
      "                        \"score\": \"1\"\n",
      "                    }\n",
      "                ]\n",
      "            },\n",
      "            \"explanation\": null,\n",
      "            \"drift\": null\n",
      "        }\n",
      "    },\n",
      "    {\n",
      "        \"data\": {\n",
      "            \"result\": {\n",
      "                \"classPredictions\": [\n",
      "                    {\n",
      "                        \"class\": \"8\",\n",
      "                        \"score\": \"1\"\n",
      "                    }\n",
      "                ]\n",
      "            },\n",
      "            \"explanation\": null,\n",
      "            \"drift\": null\n",
      "        }\n",
      "    },\n",
      "    {\n",
      "        \"data\": {\n",
      "            \"result\": {\n",
      "                \"classPredictions\": [\n",
      "                    {\n",
      "                        \"class\": \"8\",\n",
      "                        \"score\": \"1\"\n",
      "                    }\n",
      "                ]\n",
      "            },\n",
      "            \"explanation\": null,\n",
      "            \"drift\": null\n",
      "        }\n",
      "    },\n",
      "    {\n",
      "        \"data\": {\n",
      "            \"result\": {\n",
      "                \"classPredictions\": [\n",
      "                    {\n",
      "                        \"class\": \"4\",\n",
      "                        \"score\": \"1\"\n",
      "                    }\n",
      "                ]\n",
      "            },\n",
      "            \"explanation\": null,\n",
      "            \"drift\": null\n",
      "        }\n",
      "    },\n",
      "    {\n",
      "        \"data\": {\n",
      "            \"result\": {\n",
      "                \"classPredictions\": [\n",
      "                    {\n",
      "                        \"class\": \"8\",\n",
      "                        \"score\": \"1\"\n",
      "                    }\n",
      "                ]\n",
      "            },\n",
      "            \"explanation\": null,\n",
      "            \"drift\": null\n",
      "        }\n",
      "    }\n",
      "]\n"
     ]
    }
   ],
   "source": [
    "import json\n",
    "\n",
    "input_dict = {'input_data_bytes': open('./modzy/input_sample.json','rb').read()}\n",
    "\n",
    "classifier = mlflow.pyfunc.load_model(model_save_path)\n",
    "predictions = classifier.predict(input_dict)\n",
    "print(json.dumps(predictions, indent=4))"
   ]
  },
  {
   "cell_type": "markdown",
   "id": "noble-northern",
   "metadata": {},
   "source": [
    "We check that the model has been correctly saved inside the `model` directory."
   ]
  },
  {
   "cell_type": "code",
   "execution_count": 11,
   "id": "751ac7bd",
   "metadata": {},
   "outputs": [
    {
     "name": "stdout",
     "output_type": "stream",
     "text": [
      "MLmodel  conda.yaml  python_model.pkl  requirements.txt\r\n"
     ]
    }
   ],
   "source": [
    "!ls ./mlflow_custom_pyfunc_svm"
   ]
  },
  {
   "cell_type": "markdown",
   "id": "catholic-brazil",
   "metadata": {},
   "source": [
    "### Get Docker Hub credentials securely\n",
    "\n",
    "Now we prompt the user (you!) for your docker hub username and password in such a way that the value itself doesn't get written into the notebook, which is sensible security best-practice."
   ]
  },
  {
   "cell_type": "code",
   "execution_count": 12,
   "id": "9e17d7c6",
   "metadata": {
    "scrolled": true
   },
   "outputs": [
    {
     "name": "stdout",
     "output_type": "stream",
     "text": [
      "docker hub username········\n",
      "docker hub password········\n"
     ]
    }
   ],
   "source": [
    "import getpass\n",
    "import base64\n",
    "username = getpass.getpass('docker hub username')\n",
    "password = getpass.getpass('docker hub password')"
   ]
  },
  {
   "cell_type": "markdown",
   "id": "a9d8fe84",
   "metadata": {},
   "source": [
    "### Complete the data\n",
    "\n",
    "Now we can construct the metadata that the chassis service needs to build and publish the container to docker hub. In case `publish` is `False` the image is not uploaded to Docker Hub."
   ]
  },
  {
   "cell_type": "code",
   "execution_count": 13,
   "id": "ade0ef7b",
   "metadata": {},
   "outputs": [],
   "source": [
    "image_data = {\n",
    "    'name': f'{username}/chassisml-sklearn-digits:latest',\n",
    "    'version': '0.0.1',\n",
    "    'model_name': 'digits',\n",
    "    'model_path': './mlflow_custom_pyfunc_svm',\n",
    "    'registry_auth': base64.b64encode(f\"{username}:{password}\".encode(\"utf-8\")).decode(\"utf-8\"),\n",
    "    'publish': True\n",
    "}"
   ]
  },
  {
   "cell_type": "markdown",
   "id": "d7c2a1a3",
   "metadata": {},
   "source": [
    "#### Complete Modzy data\n",
    "\n",
    "In the case of KFServing, no more data is required. When it comes to Modzy, we will need to define some more data:\n",
    "\n",
    "* `metadata_path`: this is the path to the [model.yaml](https://models.modzy.com/docs/model-packaging/model-packaging-python-template/yaml-file_) file that is needed to define all information about the model. Chassis has a default one, but you should define your own based on [this example](https://github.com/modzy/chassis/blob/main/chassisml-sdk/examples/modzy/model.yaml)\n",
    "* `sample_input_path`: this is the path to the [sample input](https://models.modzy.com/docs/model-deployment/model-deployment/input-outputs) that is needed when deploying the model. An example can be found [here](https://github.com/modzy/chassis/blob/main/chassisml-sdk/examples/modzy/input_sample.json)\n",
    "* `deploy`: if it is `True` Chassis will manage to deploy the model into Modzy platform. Otherwise you can do this manually through the Modzy UI\n",
    "* `api_key`: you should have your own [api key](https://models.modzy.com/docs/how-to-guides/api-keys) from Modzy in order to let Chassis deploy the model for you\n",
    "\n",
    "Notice that if `deploy` is False this means that you can avoid defining the rest of the fields. Anyway, `metadata_path` should be defined in case you will eventually deploy the model to Modzy. This is important because the model will use this information when being deployed to Modzy, so it needs to be updated."
   ]
  },
  {
   "cell_type": "code",
   "execution_count": 14,
   "id": "c4fe920b",
   "metadata": {},
   "outputs": [
    {
     "name": "stdout",
     "output_type": "stream",
     "text": [
      "modzy api_key········\n"
     ]
    }
   ],
   "source": [
    "import getpass\n",
    "modzy_api_key = getpass.getpass('modzy api_key')"
   ]
  },
  {
   "cell_type": "code",
   "execution_count": 15,
   "id": "12c2dd87",
   "metadata": {},
   "outputs": [],
   "source": [
    "modzy_data = {\n",
    "    'metadata_path': './modzy/model.yaml',\n",
    "    'sample_input_path': './modzy/input_sample.json',\n",
    "    'deploy': True,\n",
    "    'api_key': modzy_api_key\n",
    "}"
   ]
  },
  {
   "cell_type": "markdown",
   "id": "2f93dca3",
   "metadata": {},
   "source": [
    "### Forward ports to access service and registry\n",
    "\n",
    "This assumes that you are running these commands on your own terminal to redirect the service (port 5000) and the registry (port 5001) to localhost."
   ]
  },
  {
   "cell_type": "code",
   "execution_count": 16,
   "id": "4cca5df8",
   "metadata": {},
   "outputs": [],
   "source": [
    "! # kubectl port-forward service/chassis 5000:5000"
   ]
  },
  {
   "cell_type": "markdown",
   "id": "white-failing",
   "metadata": {},
   "source": [
    "### Launch the job\n",
    "\n",
    "Important fields that we should fill in here are:\n",
    "\n",
    "* `module`: library that has been used to create the model\n",
    "* `image_data`: the values defined above\n",
    "* `image_type`: this is needed in case we are training images so afterwards the proxy will know how to interpret data\n",
    "* `base_url`: the name of the service that runs Chassis"
   ]
  },
  {
   "cell_type": "code",
   "execution_count": 17,
   "id": "381c6360",
   "metadata": {},
   "outputs": [
    {
     "name": "stdout",
     "output_type": "stream",
     "text": [
      "Building image... Ok!\n",
      "Job ID: chassis-builder-job-7bf9052c-b0ff-4d3b-bbd2-1bd15ff07f18\n"
     ]
    }
   ],
   "source": [
    "res = chassisml.publish(\n",
    "    image_data=image_data,\n",
    "    modzy_data=modzy_data,\n",
    "    base_url='http://localhost:5000'\n",
    ")\n",
    "\n",
    "error = res.get('error')\n",
    "job_id = res.get('job_id')\n",
    "\n",
    "if error:\n",
    "    print('Error:', error)\n",
    "else:\n",
    "    print('Job ID:', job_id)"
   ]
  },
  {
   "cell_type": "markdown",
   "id": "allied-arrow",
   "metadata": {},
   "source": [
    "After the request is made, Chassis launches a job that runs Kaniko and builds the docker image based on the values provided.\n",
    "\n",
    "You can get the id of the job created from the result of the request. This id can be used to ask for the status of the job.\n",
    "\n",
    "This is an example of the data that is shown when the job has not finished yet."
   ]
  },
  {
   "cell_type": "code",
   "execution_count": 23,
   "id": "wound-steering",
   "metadata": {},
   "outputs": [
    {
     "data": {
      "text/plain": [
       "{'result': {'containerImage': {'containerImageSize': 0,\n",
       "   'loadPercentage': 10,\n",
       "   'loadStatus': 'IN_PROGRESS',\n",
       "   'repositoryName': 'uzo5lhkph1',\n",
       "   'uploadPercentage': 0,\n",
       "   'uploadStatus': 'IN_PROGRESS'},\n",
       "  'container_url': 'https://integration.modzy.engineering/models/uzo5lhkph1/0.1.0',\n",
       "  'createdAt': '2021-11-09T23:30:59.714+00:00',\n",
       "  'inputValidationSchema': '',\n",
       "  'inputs': [{'acceptedMediaTypes': 'application/json',\n",
       "    'description': 'numpy array 2d',\n",
       "    'maximumSize': 1000000,\n",
       "    'name': 'input.json'}],\n",
       "  'isActive': False,\n",
       "  'isAvailable': True,\n",
       "  'longDescription': 'It classifies digits.',\n",
       "  'model': {'author': 'Integration',\n",
       "   'createdByEmail': 'saumil.dave@modzy.com',\n",
       "   'description': 'This is an image built by chassis that exposes a sklearn model.',\n",
       "   'features': [],\n",
       "   'isActive': False,\n",
       "   'isCommercial': False,\n",
       "   'isRecommended': False,\n",
       "   'latestActiveVersion': '',\n",
       "   'latestVersion': '0.1.0',\n",
       "   'modelId': 'uzo5lhkph1',\n",
       "   'name': 'chassis-digits-test',\n",
       "   'permalink': 'uzo5lhkph1-integration-chassis-digits-test',\n",
       "   'tags': [],\n",
       "   'versions': ['0.1.0'],\n",
       "   'visibility': {'scope': 'ALL'}},\n",
       "  'outputs': [{'description': 'numpy 2d array',\n",
       "    'maximumSize': 1000000,\n",
       "    'mediaType': 'application/json',\n",
       "    'name': 'results.json'}],\n",
       "  'requirement': {'requirementId': -3},\n",
       "  'statistics': [],\n",
       "  'status': 'partial',\n",
       "  'technicalDetails': '#OVERVIEW:\\n\\n#TRAINING:\\n\\n#VALIDATION:\\n\\n#INPUT SPECIFICATION:\\nThe input(s) to this model must adhere to the following specifications:\\n| Filename      | Maximum Size | Accepted Format(s) |\\n| --------      | ------------ | ------------------ |\\n\\nAdditional information describing input file(s) can go in a short paragraph here if necessary. Feel free to add an additional markdown table if many values need to be listed.\\n\\n#OUTPUT DETAILS:\\nThis model will output the following:\\n| Filename      | Maximum Size | Format |\\n| --------      | ------------ | ------ |\\n\\nAdditional information describing the output file(s) can go in a short paragraph here. Feel free to add an additional markdown table if many values need to be listed. If you want to use an additional table, please use the following headerless format:\\n| | | | |\\n|-|-|-|-|\\n| Entry 1 | Entry 2 | Entry 3 | Entry 4 |\\n| Entry 5 | Entry 6 | Entry 7 | Entry 8 |',\n",
       "  'timeout': {'run': 60000, 'status': 60000},\n",
       "  'updatedAt': '2021-11-09T23:31:00.537+00:00',\n",
       "  'version': '0.1.0'},\n",
       " 'status': {'active': None,\n",
       "  'completion_time': 'Tue, 09 Nov 2021 23:31:53 GMT',\n",
       "  'conditions': [{'last_probe_time': 'Tue, 09 Nov 2021 23:31:53 GMT',\n",
       "    'last_transition_time': 'Tue, 09 Nov 2021 23:31:53 GMT',\n",
       "    'message': None,\n",
       "    'reason': None,\n",
       "    'status': 'True',\n",
       "    'type': 'Complete'}],\n",
       "  'failed': None,\n",
       "  'start_time': 'Tue, 09 Nov 2021 23:25:22 GMT',\n",
       "  'succeeded': 1}}"
      ]
     },
     "execution_count": 23,
     "metadata": {},
     "output_type": "execute_result"
    }
   ],
   "source": [
    "chassisml.get_job_status(job_id)"
   ]
  },
  {
   "cell_type": "markdown",
   "id": "2ec5423f",
   "metadata": {},
   "source": [
    "And this is an example of the data that is shown when the job has already finished.\n",
    "\n",
    "Two top keys can be seen:\n",
    "\n",
    "* `result`: in case `deploy` was `True` this will contain some information related to the model deployed in Modzy. In particular we can see the full url to the model if we access the `container_url` key.\n",
    "* `status`: this contains the information about the kubernetes job that has built the image (and uploaded it to Modzy in case `deploy` was `True` as explained above)"
   ]
  },
  {
   "cell_type": "code",
   "execution_count": 24,
   "id": "fd5d572b",
   "metadata": {},
   "outputs": [
    {
     "data": {
      "text/plain": [
       "{'result': {'containerImage': {'containerImageSize': 0,\n",
       "   'loadPercentage': 10,\n",
       "   'loadStatus': 'IN_PROGRESS',\n",
       "   'repositoryName': 'uzo5lhkph1',\n",
       "   'uploadPercentage': 0,\n",
       "   'uploadStatus': 'IN_PROGRESS'},\n",
       "  'container_url': 'https://integration.modzy.engineering/models/uzo5lhkph1/0.1.0',\n",
       "  'createdAt': '2021-11-09T23:30:59.714+00:00',\n",
       "  'inputValidationSchema': '',\n",
       "  'inputs': [{'acceptedMediaTypes': 'application/json',\n",
       "    'description': 'numpy array 2d',\n",
       "    'maximumSize': 1000000,\n",
       "    'name': 'input.json'}],\n",
       "  'isActive': False,\n",
       "  'isAvailable': True,\n",
       "  'longDescription': 'It classifies digits.',\n",
       "  'model': {'author': 'Integration',\n",
       "   'createdByEmail': 'saumil.dave@modzy.com',\n",
       "   'description': 'This is an image built by chassis that exposes a sklearn model.',\n",
       "   'features': [],\n",
       "   'isActive': False,\n",
       "   'isCommercial': False,\n",
       "   'isRecommended': False,\n",
       "   'latestActiveVersion': '',\n",
       "   'latestVersion': '0.1.0',\n",
       "   'modelId': 'uzo5lhkph1',\n",
       "   'name': 'chassis-digits-test',\n",
       "   'permalink': 'uzo5lhkph1-integration-chassis-digits-test',\n",
       "   'tags': [],\n",
       "   'versions': ['0.1.0'],\n",
       "   'visibility': {'scope': 'ALL'}},\n",
       "  'outputs': [{'description': 'numpy 2d array',\n",
       "    'maximumSize': 1000000,\n",
       "    'mediaType': 'application/json',\n",
       "    'name': 'results.json'}],\n",
       "  'requirement': {'requirementId': -3},\n",
       "  'statistics': [],\n",
       "  'status': 'partial',\n",
       "  'technicalDetails': '#OVERVIEW:\\n\\n#TRAINING:\\n\\n#VALIDATION:\\n\\n#INPUT SPECIFICATION:\\nThe input(s) to this model must adhere to the following specifications:\\n| Filename      | Maximum Size | Accepted Format(s) |\\n| --------      | ------------ | ------------------ |\\n\\nAdditional information describing input file(s) can go in a short paragraph here if necessary. Feel free to add an additional markdown table if many values need to be listed.\\n\\n#OUTPUT DETAILS:\\nThis model will output the following:\\n| Filename      | Maximum Size | Format |\\n| --------      | ------------ | ------ |\\n\\nAdditional information describing the output file(s) can go in a short paragraph here. Feel free to add an additional markdown table if many values need to be listed. If you want to use an additional table, please use the following headerless format:\\n| | | | |\\n|-|-|-|-|\\n| Entry 1 | Entry 2 | Entry 3 | Entry 4 |\\n| Entry 5 | Entry 6 | Entry 7 | Entry 8 |',\n",
       "  'timeout': {'run': 60000, 'status': 60000},\n",
       "  'updatedAt': '2021-11-09T23:31:00.537+00:00',\n",
       "  'version': '0.1.0'},\n",
       " 'status': {'active': None,\n",
       "  'completion_time': 'Tue, 09 Nov 2021 23:31:53 GMT',\n",
       "  'conditions': [{'last_probe_time': 'Tue, 09 Nov 2021 23:31:53 GMT',\n",
       "    'last_transition_time': 'Tue, 09 Nov 2021 23:31:53 GMT',\n",
       "    'message': None,\n",
       "    'reason': None,\n",
       "    'status': 'True',\n",
       "    'type': 'Complete'}],\n",
       "  'failed': None,\n",
       "  'start_time': 'Tue, 09 Nov 2021 23:25:22 GMT',\n",
       "  'succeeded': 1}}"
      ]
     },
     "execution_count": 24,
     "metadata": {},
     "output_type": "execute_result"
    }
   ],
   "source": [
    "job_status = chassisml.get_job_status(job_id)\n",
    "result = job_status.get('result')\n",
    "\n",
    "job_status"
   ]
  },
  {
   "cell_type": "markdown",
   "id": "74e1002b",
   "metadata": {},
   "source": [
    "### Inference!\n",
    "\n",
    "Now that the model has been deployed into Modzy platform, we can make a request against it to see it working. \n",
    "\n",
    "This is going to use the sample input defined above, which is going to be wrapped in a [Modzy Job](https://models.modzy.com/docs/jobs/jobs/submit-job-text). Take into account that input names must match model input filenames."
   ]
  },
  {
   "cell_type": "code",
   "execution_count": 25,
   "id": "23b2cfe7",
   "metadata": {},
   "outputs": [
    {
     "data": {
      "text/plain": [
       "{'model': {'identifier': 'uzo5lhkph1',\n",
       "  'version': '0.1.0',\n",
       "  'name': 'chassis-digits-test'},\n",
       " 'status': 'SUBMITTED',\n",
       " 'totalInputs': 1,\n",
       " 'jobIdentifier': '1f840b3d-60a0-4c72-90da-de34523c26e1',\n",
       " 'accessKey': 'q6ED7pBAFtCsDkbaBLpt',\n",
       " 'explain': False,\n",
       " 'jobType': 'batch',\n",
       " 'accountIdentifier': 'modzy-account',\n",
       " 'team': {'identifier': '830b2012-1557-48a9-a4df-d867b5a0939a'},\n",
       " 'user': {'identifier': 'eb8cf7ea-3930-410d-812f-7430e6baf3c5',\n",
       "  'externalIdentifier': 'saumil.dave@modzy.com',\n",
       "  'firstName': 'Saumil',\n",
       "  'lastName': 'Dave',\n",
       "  'email': 'saumil.dave@modzy.com',\n",
       "  'status': 'active'},\n",
       " 'jobInputs': {'identifier': ['input']},\n",
       " 'submittedAt': '2021-11-09T23:32:33.121+00:00',\n",
       " 'hoursDeleteInput': 24,\n",
       " 'imageClassificationModel': False}"
      ]
     },
     "execution_count": 25,
     "metadata": {},
     "output_type": "execute_result"
    }
   ],
   "source": [
    "input_name = result['inputs'][0]['name'] # e.g. input.json\n",
    "\n",
    "request_data = {\n",
    "  'model': {\n",
    "    'identifier': f'{result.get(\"model\").get(\"modelId\")}',\n",
    "    'version': f'{result.get(\"version\")}'\n",
    "  },\n",
    "  'input': {\n",
    "    'type': 'text',\n",
    "    'sources': {\n",
    "      'input': {\n",
    "        input_name: '[[0.0, 0.0, 0.0, 1.0, 12.0, 6.0, 0.0, 0.0, 0.0, 0.0, 0.0, 11.0, 15.0, 2.0, 0.0, 0.0, 0.0, 0.0, 8.0, 16.0, 6.0, 1.0, 2.0, 0.0, 0.0, 4.0, 16.0, 9.0, 1.0, 15.0, 9.0, 0.0, 0.0, 13.0, 15.0, 6.0, 10.0, 16.0, 6.0, 0.0, 0.0, 12.0, 16.0, 16.0, 16.0, 16.0, 1.0, 0.0, 0.0, 1.0, 7.0, 4.0, 14.0, 13.0, 0.0, 0.0, 0.0, 0.0, 0.0, 0.0, 14.0, 9.0, 0.0, 0.0], [0.0, 0.0, 8.0, 16.0, 3.0, 0.0, 1.0, 0.0, 0.0, 0.0, 16.0, 14.0, 5.0, 14.0, 12.0, 0.0, 0.0, 0.0, 8.0, 16.0, 16.0, 9.0, 0.0, 0.0, 0.0, 0.0, 3.0, 16.0, 14.0, 1.0, 0.0, 0.0, 0.0, 0.0, 12.0, 16.0, 16.0, 2.0, 0.0, 0.0, 0.0, 0.0, 16.0, 11.0, 16.0, 4.0, 0.0, 0.0, 0.0, 3.0, 16.0, 16.0, 16.0, 6.0, 0.0, 0.0, 0.0, 0.0, 10.0, 16.0, 10.0, 1.0, 0.0, 0.0], [0.0, 0.0, 5.0, 12.0, 8.0, 0.0, 1.0, 0.0, 0.0, 0.0, 11.0, 16.0, 5.0, 13.0, 6.0, 0.0, 0.0, 0.0, 2.0, 15.0, 16.0, 12.0, 1.0, 0.0, 0.0, 0.0, 0.0, 10.0, 16.0, 6.0, 0.0, 0.0, 0.0, 0.0, 1.0, 15.0, 16.0, 7.0, 0.0, 0.0, 0.0, 0.0, 8.0, 16.0, 16.0, 11.0, 0.0, 0.0, 0.0, 0.0, 11.0, 16.0, 16.0, 9.0, 0.0, 0.0, 0.0, 0.0, 6.0, 12.0, 12.0, 3.0, 0.0, 0.0], [0.0, 0.0, 0.0, 3.0, 15.0, 4.0, 0.0, 0.0, 0.0, 0.0, 4.0, 16.0, 12.0, 0.0, 0.0, 0.0, 0.0, 0.0, 12.0, 15.0, 3.0, 4.0, 3.0, 0.0, 0.0, 7.0, 16.0, 5.0, 3.0, 15.0, 8.0, 0.0, 0.0, 13.0, 16.0, 13.0, 15.0, 16.0, 2.0, 0.0, 0.0, 12.0, 16.0, 16.0, 16.0, 13.0, 0.0, 0.0, 0.0, 0.0, 4.0, 5.0, 16.0, 8.0, 0.0, 0.0, 0.0, 0.0, 0.0, 1.0, 16.0, 4.0, 0.0, 0.0], [0.0, 0.0, 10.0, 14.0, 8.0, 1.0, 0.0, 0.0, 0.0, 2.0, 16.0, 14.0, 6.0, 1.0, 0.0, 0.0, 0.0, 0.0, 15.0, 15.0, 8.0, 15.0, 0.0, 0.0, 0.0, 0.0, 5.0, 16.0, 16.0, 10.0, 0.0, 0.0, 0.0, 0.0, 12.0, 15.0, 15.0, 12.0, 0.0, 0.0, 0.0, 4.0, 16.0, 6.0, 4.0, 16.0, 6.0, 0.0, 0.0, 8.0, 16.0, 10.0, 8.0, 16.0, 8.0, 0.0, 0.0, 1.0, 8.0, 12.0, 14.0, 12.0, 1.0, 0.0]]'\n",
    "        # ^ this has to match the input filename specified when the model was created\n",
    "      }\n",
    "    }\n",
    "  }\n",
    "}\n",
    "\n",
    "import requests\n",
    "\n",
    "res_job = requests.post(\n",
    "    'https://integration.modzy.engineering/api/jobs',\n",
    "    json=request_data,\n",
    "    headers={'Authorization': f'ApiKey {modzy_api_key}'}\n",
    ")\n",
    "\n",
    "res_job_json = res_job.json()\n",
    "\n",
    "res_job_json"
   ]
  },
  {
   "cell_type": "markdown",
   "id": "1c8c3fc6",
   "metadata": {},
   "source": [
    "We must wait until the job has finished and we can see the results."
   ]
  },
  {
   "cell_type": "code",
   "execution_count": 27,
   "id": "5db28f21",
   "metadata": {
    "scrolled": true
   },
   "outputs": [
    {
     "data": {
      "text/plain": [
       "{'jobIdentifier': '1f840b3d-60a0-4c72-90da-de34523c26e1',\n",
       " 'accountIdentifier': 'modzy-account',\n",
       " 'team': {'identifier': '830b2012-1557-48a9-a4df-d867b5a0939a'},\n",
       " 'total': 1,\n",
       " 'completed': 1,\n",
       " 'failed': 0,\n",
       " 'finished': True,\n",
       " 'submittedByKey': 'q6ED7pBAFtCsDkbaBLpt',\n",
       " 'explained': False,\n",
       " 'submittedAt': '2021-11-09T23:32:33.121+00:00',\n",
       " 'initialQueueTime': 120733,\n",
       " 'totalQueueTime': 120733,\n",
       " 'averageModelLatency': 2799.0,\n",
       " 'totalModelLatency': 2799.0,\n",
       " 'elapsedTime': 124879,\n",
       " 'startingResultSummarizing': '2021-11-09T23:34:37.304+00:00',\n",
       " 'resultSummarizing': 696,\n",
       " 'inputSize': 506,\n",
       " 'results': {'input': {'status': 'SUCCESSFUL',\n",
       "   'engine': 'model-batch-uzo5lhkph1-0-1-0-b8dbf6c8f-vfpxv',\n",
       "   'inputFetching': 2593,\n",
       "   'outputUploading': None,\n",
       "   'modelLatency': 2799.0,\n",
       "   'queueTime': 120733,\n",
       "   'startTime': '2021-11-09T23:34:33.647+0000',\n",
       "   'updateTime': '2021-11-09T23:34:37.035+0000',\n",
       "   'endTime': '2021-11-09T23:34:37.035+0000',\n",
       "   'results.json': [{'data': {'result': {'classPredictions': [{'class': '4',\n",
       "         'score': '1'}]},\n",
       "      'explanation': None,\n",
       "      'drift': None}},\n",
       "    {'data': {'result': {'classPredictions': [{'class': '8', 'score': '1'}]},\n",
       "      'explanation': None,\n",
       "      'drift': None}},\n",
       "    {'data': {'result': {'classPredictions': [{'class': '8', 'score': '1'}]},\n",
       "      'explanation': None,\n",
       "      'drift': None}},\n",
       "    {'data': {'result': {'classPredictions': [{'class': '4', 'score': '1'}]},\n",
       "      'explanation': None,\n",
       "      'drift': None}},\n",
       "    {'data': {'result': {'classPredictions': [{'class': '8', 'score': '1'}]},\n",
       "      'explanation': None,\n",
       "      'drift': None}}],\n",
       "   'voting': {'up': 0, 'down': 0}}}}"
      ]
     },
     "execution_count": 27,
     "metadata": {},
     "output_type": "execute_result"
    }
   ],
   "source": [
    "job_id = res_job_json.get('jobIdentifier')\n",
    "\n",
    "res_result = requests.get(\n",
    "    f'https://integration.modzy.engineering/api/results/{job_id}',\n",
    "    headers={'Authorization': f'ApiKey {modzy_api_key}'}\n",
    ")\n",
    "\n",
    "res_result_json = res_result.json()\n",
    "\n",
    "res_result_json"
   ]
  },
  {
   "cell_type": "code",
   "execution_count": null,
   "id": "3a2d6669",
   "metadata": {},
   "outputs": [],
   "source": []
  }
 ],
 "metadata": {
  "kernelspec": {
   "display_name": "py385",
   "language": "python",
   "name": "py385"
  },
  "language_info": {
   "codemirror_mode": {
    "name": "ipython",
    "version": 3
   },
   "file_extension": ".py",
   "mimetype": "text/x-python",
   "name": "python",
   "nbconvert_exporter": "python",
   "pygments_lexer": "ipython3",
   "version": "3.8.5"
  }
 },
 "nbformat": 4,
 "nbformat_minor": 5
}
