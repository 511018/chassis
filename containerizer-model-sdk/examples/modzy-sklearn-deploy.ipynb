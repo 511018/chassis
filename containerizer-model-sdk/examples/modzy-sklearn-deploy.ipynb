{
 "cells": [
  {
   "cell_type": "markdown",
   "metadata": {},
   "source": [
    "# Deploy a model to Modzy and run it all from inside a Jupyter notebook!"
   ]
  },
  {
   "cell_type": "markdown",
   "metadata": {},
   "source": [
    "No need for Docker here!"
   ]
  },
  {
   "cell_type": "code",
   "execution_count": 1,
   "metadata": {},
   "outputs": [],
   "source": [
    "import sklearn\n",
    "import modzymodel"
   ]
  },
  {
   "cell_type": "markdown",
   "metadata": {},
   "source": [
    "### Define required variables"
   ]
  },
  {
   "cell_type": "code",
   "execution_count": 2,
   "metadata": {},
   "outputs": [],
   "source": [
    "user_api_key = 'XXXX'\n",
    "\n",
    "input_file = '../../builder_api/test/sklearn/data/0.jpg'"
   ]
  },
  {
   "cell_type": "markdown",
   "metadata": {},
   "source": [
    "### Use the SDK to interact with Modzy"
   ]
  },
  {
   "cell_type": "markdown",
   "metadata": {},
   "source": [
    "#### Build the image and upload it to Modzy"
   ]
  },
  {
   "cell_type": "markdown",
   "metadata": {},
   "source": [
    "For every input there must be one output of type json. The \"Output Name\" of every output must be the same as the \"Model Input Filename\" of the referenced input but the extension \".json\" must be added (even if it's already a json).\n",
    "E.g.: if the \"Model Input Filename\" of one input is \"digit.jpg\", the \"Output Name\" of its corresponding output should be \"digit.jpg.json\".\n",
    "\n",
    "Job input names must match this name."
   ]
  },
  {
   "cell_type": "code",
   "execution_count": 3,
   "metadata": {},
   "outputs": [],
   "source": [
    "image_data = {\n",
    "    'name': 'sdk-test-sklearn',\n",
    "    'version': '0.0.1',\n",
    "    'model_name': 'digits',\n",
    "    'model_path': '../../builder_api/test/sklearn/example_model',\n",
    "}\n",
    "\n",
    "metadata = {\n",
    "    'inputs': [{\n",
    "        'acceptedMediaTypes': 'image/jpeg',\n",
    "        'description': 'description input',\n",
    "        'maximumSize': int(1.024e6),\n",
    "        'name': 'digit.jpg'\n",
    "    }],\n",
    "    'outputs': [{\n",
    "        'description': 'description output',\n",
    "        'maximumSize': int(1.024e6),\n",
    "        'mediaType': 'application/json',\n",
    "        'name': 'digit.jpg.json'\n",
    "    }],\n",
    "}"
   ]
  },
  {
   "cell_type": "markdown",
   "metadata": {},
   "source": [
    "Finally, we are able to publish that image to Modzy in order to create our draft model."
   ]
  },
  {
   "cell_type": "code",
   "execution_count": 4,
   "metadata": {
    "scrolled": true
   },
   "outputs": [
    {
     "name": "stdout",
     "output_type": "stream",
     "text": [
      "Publishing container... Ok!\n",
      "Job ID: modzy-builder-job-212de1db-440f-44bb-a2af-8442100d44f0\n"
     ]
    }
   ],
   "source": [
    "res = modzymodel.publish(\n",
    "    api_key=user_api_key,\n",
    "    module=sklearn,\n",
    "    image_data=image_data,\n",
    "    deploy=True,\n",
    "    input_example_path=input_file,\n",
    "    metadata=metadata\n",
    ")\n",
    "\n",
    "error = res.get('error')\n",
    "job_id = res.get('job_id')\n",
    "\n",
    "if error:\n",
    "    print('Error:', error)\n",
    "else:\n",
    "    print('Job ID:', job_id)"
   ]
  },
  {
   "cell_type": "code",
   "execution_count": 5,
   "metadata": {},
   "outputs": [
    {
     "name": "stdout",
     "output_type": "stream",
     "text": [
      "Deployed model: https://master.dev.modzy.engineering/models/khwkpvuhrq-modzy-sdk-test-sklearn/0.0.1\n"
     ]
    }
   ],
   "source": [
    "model_data = modzymodel.get_job_status(job_id)\n",
    "model_data = model_data.get('result')"
   ]
  },
  {
   "cell_type": "markdown",
   "metadata": {},
   "source": [
    "# Inference!"
   ]
  },
  {
   "cell_type": "markdown",
   "metadata": {},
   "source": [
    "Retrieve model data and use it to run a job. Take into account that input names must match model input filenames."
   ]
  },
  {
   "cell_type": "code",
   "execution_count": 7,
   "metadata": {
    "scrolled": true
   },
   "outputs": [
    {
     "data": {
      "text/plain": [
       "{'model': {'identifier': 'khwkpvuhrq', 'version': '0.0.1'},\n",
       " 'totalInputs': 1,\n",
       " 'jobIdentifier': '6c32f736-a578-4340-9a0b-9eb92d38d122',\n",
       " 'accessKey': 'LzYMlkVfj5780fKHQzrK',\n",
       " 'explain': False,\n",
       " 'jobInputs': {'identifier': ['image-1']},\n",
       " 'inputByteAmount': 553,\n",
       " 'submittedAt': '2021-03-26T13:55:35.204+00:00'}"
      ]
     },
     "execution_count": 7,
     "metadata": {},
     "output_type": "execute_result"
    }
   ],
   "source": [
    "input_name = metadata['inputs'][0]['name'] # e.g. digit.jpg\n",
    "\n",
    "request_data = {\n",
    "  'model': {\n",
    "    'identifier': f'{model_data.get(\"identifier\")}',\n",
    "    'version': f'{model_data.get(\"version\")}'\n",
    "  },\n",
    "  'input': {\n",
    "    'type': 'embedded',\n",
    "    'sources': {\n",
    "      'image-1': {\n",
    "        input_name: 'data:image/jpeg;base64,/9j/4AAQSkZJRgABAQAAAQABAAD/2wBDAAIBAQEBAQIBAQECAgICAgQDAgICAgUEBAMEBgUGBgYFBgYGBwkIBgcJBwYGCAsICQoKCgoKBggLDAsKDAkKCgr/wAALCAAIAAgBAREA/8QAHwAAAQUBAQEBAQEAAAAAAAAAAAECAwQFBgcICQoL/8QAtRAAAgEDAwIEAwUFBAQAAAF9AQIDAAQRBRIhMUEGE1FhByJxFDKBkaEII0KxwRVS0fAkM2JyggkKFhcYGRolJicoKSo0NTY3ODk6Q0RFRkdISUpTVFVWV1hZWmNkZWZnaGlqc3R1dnd4eXqDhIWGh4iJipKTlJWWl5iZmqKjpKWmp6ipqrKztLW2t7i5usLDxMXGx8jJytLT1NXW19jZ2uHi4+Tl5ufo6erx8vP09fb3+Pn6/9oACAEBAAA/APwRha4fw9NG6sqgqVZ1+Vxnovvn61//2Q=='\n",
    "        # ^ this has to match the input filename specified when the model was created\n",
    "      }\n",
    "    }\n",
    "  }\n",
    "}\n",
    "\n",
    "import requests\n",
    "\n",
    "res_job = requests.post(\n",
    "    'https://master.dev.modzy.engineering/api/jobs',\n",
    "    json=request_data,\n",
    "    headers={'Authorization': f'ApiKey {user_api_key}'}\n",
    ")\n",
    "\n",
    "res_job_json = res_job.json()\n",
    "\n",
    "res_job_json"
   ]
  },
  {
   "cell_type": "markdown",
   "metadata": {},
   "source": [
    "Wait until the job has finished and retrieve the results."
   ]
  },
  {
   "cell_type": "code",
   "execution_count": 10,
   "metadata": {},
   "outputs": [
    {
     "data": {
      "text/plain": [
       "{'jobIdentifier': '6c32f736-a578-4340-9a0b-9eb92d38d122',\n",
       " 'total': 1,\n",
       " 'completed': 0,\n",
       " 'failed': 0,\n",
       " 'finished': False,\n",
       " 'submittedByKey': 'LzYMlkVfj5780fKHQzrK',\n",
       " 'explained': False}"
      ]
     },
     "execution_count": 10,
     "metadata": {},
     "output_type": "execute_result"
    }
   ],
   "source": [
    "job_id = res_job_json.get('jobIdentifier')\n",
    "\n",
    "res_result = requests.get(\n",
    "    f'https://master.dev.modzy.engineering/api/results/{job_id}',\n",
    "    headers={'Authorization': f'ApiKey {user_api_key}'}\n",
    ")\n",
    "\n",
    "res_result_json = res_result.json()\n",
    "\n",
    "res_result_json"
   ]
  }
 ],
 "metadata": {
  "kernelspec": {
   "display_name": "Python 3",
   "language": "python",
   "name": "python3"
  },
  "language_info": {
   "codemirror_mode": {
    "name": "ipython",
    "version": 3
   },
   "file_extension": ".py",
   "mimetype": "text/x-python",
   "name": "python",
   "nbconvert_exporter": "python",
   "pygments_lexer": "ipython3",
   "version": "3.9.2"
  }
 },
 "nbformat": 4,
 "nbformat_minor": 4
}
