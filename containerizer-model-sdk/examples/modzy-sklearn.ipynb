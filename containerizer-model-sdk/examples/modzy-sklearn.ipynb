{
 "cells": [
  {
   "cell_type": "code",
   "execution_count": 1,
   "metadata": {},
   "outputs": [],
   "source": [
    "import sklearn\n",
    "import modzymodel"
   ]
  },
  {
   "cell_type": "markdown",
   "metadata": {},
   "source": [
    "### Define required variables"
   ]
  },
  {
   "cell_type": "code",
   "execution_count": 2,
   "metadata": {},
   "outputs": [],
   "source": [
    "api_key = 'XXXX'"
   ]
  },
  {
   "cell_type": "markdown",
   "metadata": {},
   "source": [
    "### Use the SDK to interact with Modzy"
   ]
  },
  {
   "cell_type": "markdown",
   "metadata": {},
   "source": [
    "#### Build the image and upload it to Modzy"
   ]
  },
  {
   "cell_type": "markdown",
   "metadata": {},
   "source": [
    "Only name and version are required since we are not going to deploy the container."
   ]
  },
  {
   "cell_type": "code",
   "execution_count": 19,
   "metadata": {},
   "outputs": [],
   "source": [
    "image_data = {\n",
    "    'name': 'sdk-test-sklearn',\n",
    "    'version': '0.0.1',\n",
    "    'model_name': 'digits',\n",
    "    'model_path': '../../builder_service/test/sklearn/example_model',\n",
    "}"
   ]
  },
  {
   "cell_type": "markdown",
   "metadata": {},
   "source": [
    "We make a requests against the builder service to build the image that contains our model. This will also upload the generated container to Modzy server."
   ]
  },
  {
   "cell_type": "code",
   "execution_count": 24,
   "metadata": {},
   "outputs": [
    {
     "name": "stdout",
     "output_type": "stream",
     "text": [
      "Publishing container... Ok!\n",
      "Job ID: modzy-builder-job-e03e6615-76a5-4aa3-bd78-3ba8ec9e7fea\n"
     ]
    }
   ],
   "source": [
    "res = modzymodel.publish(\n",
    "    api_key=api_key,\n",
    "    module=sklearn,\n",
    "    image_data=image_data,\n",
    "    deploy=False,\n",
    "    image_type=modzymodel.Constants.IMAGE_GREY,\n",
    "    base_url='http://192.168.49.2:30496'\n",
    ")\n",
    "\n",
    "error = res.get('error')\n",
    "job_id = res.get('job_id')\n",
    "\n",
    "if error:\n",
    "    print('Error:', error)\n",
    "else:\n",
    "    print('Job ID:', job_id)"
   ]
  },
  {
   "cell_type": "code",
   "execution_count": 26,
   "metadata": {},
   "outputs": [
    {
     "name": "stdout",
     "output_type": "stream",
     "text": [
      "Draft model: https://master.dev.modzy.engineering/launchpad/hardware-requirements/5j1yoi3fyi/0.0.1\n",
      "\n",
      "Please, go to the Draft model url and fill in the missing values through the UI.\n",
      "\n",
      "For every input there must be one output of type json. The \"Output Name\" of every output must be the same as the \"Model Input Filename\" of the referenced input but the extension \".json\" must be added (even if it's already a json).\n",
      "E.g.: if the \"Model Input Filename\" of one input is \"digit.jpg\", the \"Output Name\" of its corresponding output should be \"digit.jpg.json\".\n",
      "Job input names must match model input filenames.\n"
     ]
    },
    {
     "data": {
      "text/plain": [
       "{'result': {'container_url': 'https://master.dev.modzy.engineering/launchpad/hardware-requirements/5j1yoi3fyi/0.0.1'},\n",
       " 'status': {'active': None,\n",
       "  'completion_time': 'Wed, 07 Apr 2021 09:28:56 GMT',\n",
       "  'conditions': [{'last_probe_time': 'Wed, 07 Apr 2021 09:28:56 GMT',\n",
       "    'last_transition_time': 'Wed, 07 Apr 2021 09:28:56 GMT',\n",
       "    'message': None,\n",
       "    'reason': None,\n",
       "    'status': 'True',\n",
       "    'type': 'Complete'}],\n",
       "  'failed': None,\n",
       "  'start_time': 'Wed, 07 Apr 2021 09:21:56 GMT',\n",
       "  'succeeded': 1}}"
      ]
     },
     "execution_count": 26,
     "metadata": {},
     "output_type": "execute_result"
    }
   ],
   "source": [
    "modzymodel.get_job_status(job_id)"
   ]
  }
 ],
 "metadata": {
  "kernelspec": {
   "display_name": "Python 3",
   "language": "python",
   "name": "python3"
  },
  "language_info": {
   "codemirror_mode": {
    "name": "ipython",
    "version": 3
   },
   "file_extension": ".py",
   "mimetype": "text/x-python",
   "name": "python",
   "nbconvert_exporter": "python",
   "pygments_lexer": "ipython3",
   "version": "3.9.2"
  }
 },
 "nbformat": 4,
 "nbformat_minor": 4
}
