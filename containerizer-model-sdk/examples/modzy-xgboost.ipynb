{
 "cells": [
  {
   "cell_type": "code",
   "execution_count": 1,
   "metadata": {},
   "outputs": [],
   "source": [
    "import xgboost\n",
    "import modzymodel"
   ]
  },
  {
   "cell_type": "markdown",
   "metadata": {},
   "source": [
    "### Define required variables"
   ]
  },
  {
   "cell_type": "code",
   "execution_count": 24,
   "metadata": {},
   "outputs": [],
   "source": [
    "api_key = 'XXXX'"
   ]
  },
  {
   "cell_type": "markdown",
   "metadata": {},
   "source": [
    "### Use the SDK to interact with Modzy"
   ]
  },
  {
   "cell_type": "markdown",
   "metadata": {},
   "source": [
    "#### Build the image and upload it to Modzy"
   ]
  },
  {
   "cell_type": "markdown",
   "metadata": {},
   "source": [
    "Only name and version are required since we are not going to deploy the container."
   ]
  },
  {
   "cell_type": "code",
   "execution_count": 25,
   "metadata": {},
   "outputs": [],
   "source": [
    "image_data = {\n",
    "    'name': 'sdk-test-xgboost',\n",
    "    'version': '0.0.1',\n",
    "    'model_name': 'iris',\n",
    "    'model_path': '../../builder_service/test/xgboost/example_model',\n",
    "}"
   ]
  },
  {
   "cell_type": "markdown",
   "metadata": {},
   "source": [
    "We make a requests against the builder service to build the image that contains our model. This will also upload the generated container to Modzy server."
   ]
  },
  {
   "cell_type": "code",
   "execution_count": 30,
   "metadata": {},
   "outputs": [
    {
     "name": "stdout",
     "output_type": "stream",
     "text": [
      "Publishing container... Ok!\n",
      "Job ID: modzy-builder-job-54823331-11ff-47df-9046-968155461a00\n"
     ]
    }
   ],
   "source": [
    "res = modzymodel.publish(\n",
    "    api_key=api_key,\n",
    "    module=xgboost,\n",
    "    image_data=image_data,\n",
    "    deploy=False,\n",
    "    base_url='http://containerizer.local'\n",
    ")\n",
    "\n",
    "error = res.get('error')\n",
    "job_id = res.get('job_id')\n",
    "\n",
    "if error:\n",
    "    print('Error:', error)\n",
    "else:\n",
    "    print('Job ID:', job_id)"
   ]
  },
  {
   "cell_type": "code",
   "execution_count": 31,
   "metadata": {},
   "outputs": [
    {
     "name": "stdout",
     "output_type": "stream",
     "text": [
      "Not finished yet. Try again later\n"
     ]
    }
   ],
   "source": [
    "modzymodel.get_job_status(job_id)"
   ]
  }
 ],
 "metadata": {
  "kernelspec": {
   "display_name": "Python 3",
   "language": "python",
   "name": "python3"
  },
  "language_info": {
   "codemirror_mode": {
    "name": "ipython",
    "version": 3
   },
   "file_extension": ".py",
   "mimetype": "text/x-python",
   "name": "python",
   "nbconvert_exporter": "python",
   "pygments_lexer": "ipython3",
   "version": "3.8.9"
  }
 },
 "nbformat": 4,
 "nbformat_minor": 4
}
