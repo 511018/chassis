{
 "cells": [
  {
   "cell_type": "markdown",
   "id": "outstanding-dimension",
   "metadata": {},
   "source": [
    "# Containerizer service"
   ]
  },
  {
   "cell_type": "markdown",
   "id": "arctic-original",
   "metadata": {},
   "source": [
    "Import libraries that have been installed before"
   ]
  },
  {
   "cell_type": "code",
   "execution_count": 1,
   "id": "a37fa609",
   "metadata": {},
   "outputs": [],
   "source": [
    "import sklearn\n",
    "import modzymodel"
   ]
  },
  {
   "cell_type": "markdown",
   "id": "approximate-summary",
   "metadata": {},
   "source": [
    "### Train the model\n",
    "\n",
    "This will train a sklearn model and it will be saved as a joblib file inside the `model` directory.\n",
    "\n",
    "The goal for containerizer service is to create an image that exposes this model."
   ]
  },
  {
   "cell_type": "code",
   "execution_count": 2,
   "id": "f0bd3c2b",
   "metadata": {},
   "outputs": [
    {
     "data": {
      "text/plain": [
       "['./model/model.joblib']"
      ]
     },
     "execution_count": 2,
     "metadata": {},
     "output_type": "execute_result"
    }
   ],
   "source": [
    "from sklearn import datasets, svm, metrics\n",
    "from sklearn.model_selection import train_test_split\n",
    "from joblib import dump, load\n",
    "\n",
    "digits = datasets.load_digits()\n",
    "\n",
    "data = digits.images.reshape((len(digits.images), -1))\n",
    "\n",
    "# Create a classifier: a support vector classifier\n",
    "clf = svm.SVC(gamma=0.001)\n",
    "\n",
    "# Split data into 50% train and 50% test subsets\n",
    "X_train, X_test, y_train, y_test = train_test_split(\n",
    "    data, digits.target, test_size=0.5, shuffle=False)\n",
    "\n",
    "# Learn the digits on the train subset\n",
    "clf.fit(X_train, y_train)\n",
    "\n",
    "dump(clf, './model/model.joblib')"
   ]
  },
  {
   "cell_type": "markdown",
   "id": "144cda6c",
   "metadata": {},
   "source": [
    "### Train the model\n",
    "\n",
    "Transform the model into MLFlow format."
   ]
  },
  {
   "cell_type": "code",
   "execution_count": 3,
   "id": "abedf16f",
   "metadata": {},
   "outputs": [],
   "source": [
    "import joblib\n",
    "clf = joblib.load('./model/model.joblib')\n",
    "\n",
    "import mlflow.sklearn\n",
    "mlflow.sklearn.save_model(clf, './model/MLFlowModel')"
   ]
  },
  {
   "cell_type": "markdown",
   "id": "noble-northern",
   "metadata": {},
   "source": [
    "We check that the model has been correctly saved inside the `model` directory."
   ]
  },
  {
   "cell_type": "code",
   "execution_count": 4,
   "id": "751ac7bd",
   "metadata": {},
   "outputs": [
    {
     "name": "stdout",
     "output_type": "stream",
     "text": [
      "conda.yaml  MLmodel  model.pkl\r\n"
     ]
    }
   ],
   "source": [
    "!ls ./model/MLFlowModel"
   ]
  },
  {
   "cell_type": "markdown",
   "id": "catholic-brazil",
   "metadata": {},
   "source": [
    "### Define the values needed\n",
    "\n",
    "The fields `name`, `version` and `api_key` are used when uploading the image to Modzy platform.\n",
    "\n",
    "Since now we are just creating and downloading the docker image, the only fields that containerizer service actually needs are:\n",
    "\n",
    "* `model_name`: name for the model inside the image\n",
    "* `model_path`: directory that contains our model file"
   ]
  },
  {
   "cell_type": "code",
   "execution_count": 5,
   "id": "ade0ef7b",
   "metadata": {},
   "outputs": [],
   "source": [
    "api_key = 'XXXX'\n",
    "\n",
    "image_data = {\n",
    "    'name': 'docker-registry:5000/mlflow-digits-containerized',\n",
    "    'version': '0.0.1',\n",
    "    'model_name': 'digits',\n",
    "    'model_path': './model/MLFlowModel',\n",
    "}"
   ]
  },
  {
   "cell_type": "markdown",
   "id": "2f93dca3",
   "metadata": {},
   "source": [
    "### Forward ports to access service and registry\n",
    "\n",
    "This assumes that you are running these commands on your own terminal to redirect the service (port 5000) and the registry (port 5001) to localhost."
   ]
  },
  {
   "cell_type": "code",
   "execution_count": 6,
   "id": "4cca5df8",
   "metadata": {},
   "outputs": [],
   "source": [
    "! # kubectl port-forward service/containerizer 5000:5000\n",
    "! # kubectl port-forward service/docker-registry 5001:5000"
   ]
  },
  {
   "cell_type": "markdown",
   "id": "white-failing",
   "metadata": {},
   "source": [
    "### Launch the job\n",
    "\n",
    "Important fields that we should fill in here are:\n",
    "\n",
    "* `module`: library that has been used to create the model\n",
    "* `image_data`: the values defined above\n",
    "* `image_type`: this is needed in case we are training images so afterwards the proxy will know how to interpret data\n",
    "* `base_url`: the name of the service that runs the containerizer"
   ]
  },
  {
   "cell_type": "code",
   "execution_count": 7,
   "id": "381c6360",
   "metadata": {},
   "outputs": [
    {
     "name": "stdout",
     "output_type": "stream",
     "text": [
      "Publishing container... Ok!\n",
      "Job ID: containerizer-builder-job-e43d6830-0d64-4d84-ba2f-2413bcda1abb\n"
     ]
    }
   ],
   "source": [
    "res = modzymodel.publish(\n",
    "    api_key=api_key,\n",
    "    module=mlflow,\n",
    "    image_data=image_data,\n",
    "    deploy=True,\n",
    "    image_type=modzymodel.Constants.IMAGE_GREY,\n",
    "    base_url='http://localhost:5000'\n",
    ")\n",
    "\n",
    "error = res.get('error')\n",
    "job_id = res.get('job_id')\n",
    "\n",
    "if error:\n",
    "    print('Error:', error)\n",
    "else:\n",
    "    print('Job ID:', job_id)"
   ]
  },
  {
   "cell_type": "markdown",
   "id": "allied-arrow",
   "metadata": {},
   "source": [
    "After the request is made, containerizer launches a job that runs Kaniko and builds the docker image based on the values provided.\n",
    "\n",
    "You can get the id of the job created from the result of the request. This id can be used to ask for the status of the job."
   ]
  },
  {
   "cell_type": "code",
   "execution_count": 8,
   "id": "wound-steering",
   "metadata": {},
   "outputs": [
    {
     "data": {
      "text/plain": [
       "{'result': None,\n",
       " 'status': {'active': None,\n",
       "  'completion_time': 'Fri, 18 Jun 2021 10:07:50 GMT',\n",
       "  'conditions': [{'last_probe_time': 'Fri, 18 Jun 2021 10:07:50 GMT',\n",
       "    'last_transition_time': 'Fri, 18 Jun 2021 10:07:50 GMT',\n",
       "    'message': None,\n",
       "    'reason': None,\n",
       "    'status': 'True',\n",
       "    'type': 'Complete'}],\n",
       "  'failed': None,\n",
       "  'start_time': 'Fri, 18 Jun 2021 10:04:53 GMT',\n",
       "  'succeeded': 1}}"
      ]
     },
     "execution_count": 8,
     "metadata": {},
     "output_type": "execute_result"
    }
   ],
   "source": [
    "modzymodel.get_job_status(job_id)"
   ]
  },
  {
   "cell_type": "markdown",
   "id": "9e15304f",
   "metadata": {},
   "source": [
    "Now, we should be able to see the created image listed in the registry. This means that the service has correctly created the image and uploaded it."
   ]
  },
  {
   "cell_type": "code",
   "execution_count": 9,
   "id": "dc9df1a3",
   "metadata": {},
   "outputs": [
    {
     "name": "stdout",
     "output_type": "stream",
     "text": [
      "{\"repositories\":[\"mlflow-digits-containerized\"]}\r\n"
     ]
    }
   ],
   "source": [
    "!wget -qO- http://localhost:5001/v2/_catalog"
   ]
  },
  {
   "cell_type": "markdown",
   "id": "considered-prison",
   "metadata": {},
   "source": [
    "### Pull the docker image\n",
    "\n",
    "Now that the job has finished, we can pull and load the docker image that has been generated."
   ]
  },
  {
   "cell_type": "code",
   "execution_count": 10,
   "id": "independent-diameter",
   "metadata": {},
   "outputs": [
    {
     "name": "stdout",
     "output_type": "stream",
     "text": [
      "Using default tag: latest\n",
      "latest: Pulling from mlflow-digits-containerized\n",
      "\n",
      "\u001b[1B2152171a: Already exists \n",
      "\u001b[1B043ff07a: Pulling fs layer \n",
      "\u001b[1B01523801: Pulling fs layer \n",
      "\u001b[1Bdb539500: Pulling fs layer \n",
      "\u001b[1B16605b55: Pulling fs layer \n",
      "\u001b[1B903809c0: Pull complete 498MB/5.498MBBA\u001b[2K\u001b[1A\u001b[2K\u001b[2A\u001b[2K\u001b[5A\u001b[2K\u001b[4A\u001b[2K\u001b[4A\u001b[2K\u001b[2A\u001b[2K\u001b[2A\u001b[2K\u001b[2A\u001b[2K\u001b[2A\u001b[2K\u001b[2A\u001b[2K\u001b[2A\u001b[2K\u001b[2A\u001b[2K\u001b[2A\u001b[2K\u001b[2A\u001b[2K\u001b[2A\u001b[2K\u001b[2A\u001b[2K\u001b[2A\u001b[2K\u001b[2A\u001b[2K\u001b[2A\u001b[2K\u001b[2A\u001b[2K\u001b[2A\u001b[2K\u001b[2A\u001b[2K\u001b[2A\u001b[2K\u001b[2A\u001b[2K\u001b[2A\u001b[2K\u001b[2A\u001b[2K\u001b[2A\u001b[2K\u001b[2A\u001b[2K\u001b[2A\u001b[2K\u001b[2A\u001b[2K\u001b[2A\u001b[2K\u001b[2A\u001b[2K\u001b[2A\u001b[2K\u001b[2A\u001b[2K\u001b[2A\u001b[2K\u001b[2A\u001b[2K\u001b[2A\u001b[2K\u001b[2A\u001b[2K\u001b[2A\u001b[2K\u001b[2A\u001b[2K\u001b[2A\u001b[2K\u001b[2A\u001b[2K\u001b[2A\u001b[2K\u001b[2A\u001b[2K\u001b[2A\u001b[2K\u001b[2A\u001b[2K\u001b[2A\u001b[2K\u001b[2A\u001b[2K\u001b[2A\u001b[2K\u001b[2A\u001b[2K\u001b[1A\u001b[2K\u001b[1A\u001b[2KDigest: sha256:3db68a482375ed0a5c46894825a9030bba0537f05ea6768b073594b9fe6ecaa9\n",
      "Status: Downloaded newer image for localhost:5001/mlflow-digits-containerized:latest\n",
      "localhost:5001/mlflow-digits-containerized:latest\n"
     ]
    }
   ],
   "source": [
    "!docker pull localhost:5001/mlflow-digits-containerized"
   ]
  },
  {
   "cell_type": "code",
   "execution_count": 11,
   "id": "ordinary-majority",
   "metadata": {},
   "outputs": [
    {
     "name": "stdout",
     "output_type": "stream",
     "text": [
      "REPOSITORY                                   TAG       IMAGE ID       CREATED          SIZE\r\n",
      "localhost:5001/mlflow-digits-containerized   latest    af270737e355   21 seconds ago   691MB\r\n"
     ]
    }
   ],
   "source": [
    "!docker images localhost:5001/mlflow-digits-containerized"
   ]
  }
 ],
 "metadata": {
  "kernelspec": {
   "display_name": "Python 3",
   "language": "python",
   "name": "python3"
  },
  "language_info": {
   "codemirror_mode": {
    "name": "ipython",
    "version": 3
   },
   "file_extension": ".py",
   "mimetype": "text/x-python",
   "name": "python",
   "nbconvert_exporter": "python",
   "pygments_lexer": "ipython3",
   "version": "3.8.5"
  }
 },
 "nbformat": 4,
 "nbformat_minor": 5
}
