{
 "cells": [
  {
   "cell_type": "markdown",
   "id": "6b3d1266",
   "metadata": {},
   "source": [
    "# Getting Started with Chassis\n",
    "Run this notebook to execute your first Chassis job with a pre-trained Scikit-learn Logistic Regression Classifier.\n",
    "\n",
    "**Note:** To follow along with the example code below, you must create a free [Docker Hub](https://hub.docker.com/signup) account if you do not already have one. We also recommend setting up a virtual environment to run this notebook. Chassis currently supports Python 3.6 and above"
   ]
  },
  {
   "cell_type": "code",
   "execution_count": null,
   "id": "8f398847",
   "metadata": {},
   "outputs": [],
   "source": [
    "!pip install chassisml scikit-learn numpy"
   ]
  },
  {
   "cell_type": "code",
   "execution_count": null,
   "id": "61a82a6e",
   "metadata": {},
   "outputs": [],
   "source": [
    "import json\n",
    "import pickle\n",
    "import chassisml\n",
    "import numpy as np"
   ]
  },
  {
   "cell_type": "code",
   "execution_count": null,
   "id": "e22ab77d",
   "metadata": {},
   "outputs": [],
   "source": [
    "# load model\n",
    "model = pickle.load(open(\"./model.pkl\", \"rb\"))\n",
    "\n",
    "# define process function\n",
    "def process(input_bytes):\n",
    "    inputs = np.array(json.loads(input_bytes))\n",
    "    inference_results = model.predict(inputs)\n",
    "    structured_results = []\n",
    "    for inference_result in inference_results:\n",
    "        structured_output = {\n",
    "            \"data\": {\n",
    "                \"result\": {\"classPredictions\": [{\"class\": str(inference_result), \"score\": str(1)}]}\n",
    "            }\n",
    "        }\n",
    "        structured_results.append(structured_output)\n",
    "    return structured_results"
   ]
  },
  {
   "cell_type": "code",
   "execution_count": null,
   "id": "4443132a",
   "metadata": {},
   "outputs": [],
   "source": [
    "# connect to Chassis client\n",
    "chassis_client = chassisml.ChassisClient(\"https://chassis.app.modzy.com/\")\n",
    "\n",
    "# create Chassis model\n",
    "chassis_model = chassis_client.create_model(process_fn=process)\n",
    "\n",
    "# test Chassis model\n",
    "sample_filepath = './digits_sample.json'\n",
    "results = chassis_model.test(sample_filepath)\n",
    "print(results)"
   ]
  },
  {
   "cell_type": "code",
   "execution_count": null,
   "id": "c17fb9b9",
   "metadata": {},
   "outputs": [],
   "source": [
    "# publish model to Dockerhub\n",
    "docker_user = \"<insert-Docker Hub username>\"\n",
    "docker_pass = \"<insert-Docker Hub password>\"\n",
    "model_name = \"My First Chassis Model\"\n",
    "\n",
    "response = chassis_model.publish(\n",
    "    model_name=model_name,\n",
    "    model_version=\"0.0.1\",\n",
    "    registry_user=docker_user,\n",
    "    registry_pass=docker_pass\n",
    ")"
   ]
  },
  {
   "cell_type": "code",
   "execution_count": null,
   "id": "5a6b5243",
   "metadata": {},
   "outputs": [],
   "source": [
    "# wait for job to complete and print result\n",
    "job_id = response.get('job_id')\n",
    "final_status = chassis_client.block_until_complete(job_id)"
   ]
  },
  {
   "cell_type": "code",
   "execution_count": null,
   "id": "c7f10f33",
   "metadata": {},
   "outputs": [],
   "source": [
    "if final_status['status']['succeeded'] == 1:\n",
    "    print(\"Job Completed. View your new container image here: https://hub.docker.com/repository/docker/{}/{}\".format(docker_user, \"-\".join(model_name.lower().split(\" \"))))\n",
    "else:\n",
    "    print(\"Job Failed. See logs below:\\n\\n{}\".format(final_status['logs']))"
   ]
  }
 ],
 "metadata": {
  "kernelspec": {
   "display_name": "Python 3 (ipykernel)",
   "language": "python",
   "name": "python3"
  },
  "language_info": {
   "codemirror_mode": {
    "name": "ipython",
    "version": 3
   },
   "file_extension": ".py",
   "mimetype": "text/x-python",
   "name": "python",
   "nbconvert_exporter": "python",
   "pygments_lexer": "ipython3",
   "version": "3.9.7"
  },
  "vscode": {
   "interpreter": {
    "hash": "301a569c7d78fdfc0e7ebe110f23afd30f460fdfa433fa9ad450bc903fa815b5"
   }
  }
 },
 "nbformat": 4,
 "nbformat_minor": 5
}
