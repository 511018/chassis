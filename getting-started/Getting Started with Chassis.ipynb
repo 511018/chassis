{
 "cells": [
  {
   "cell_type": "markdown",
   "id": "6b3d1266",
   "metadata": {},
   "source": [
    "# Getting Started with Chassis\n",
    "Run this notebook to execute your first Chassis job with a saved Scikit-learn Logistic Regression Classifier.\n",
    "\n",
    "**Note:** To follow along with the example code below, you must create a free [Docker Hub](https://hub.docker.com/signup) account if you do not already have one. We also recommend setting up a virtual environment to run the below code. Chassis currently supports Python 3.6 >"
   ]
  },
  {
   "cell_type": "code",
   "execution_count": null,
   "id": "61a82a6e",
   "metadata": {},
   "outputs": [],
   "source": [
    "import json\n",
    "import pickle\n",
    "import chassisml\n",
    "import numpy as np"
   ]
  },
  {
   "cell_type": "code",
   "execution_count": null,
   "id": "e22ab77d",
   "metadata": {},
   "outputs": [],
   "source": [
    "# load model\n",
    "model = pickle.load(open(\"./model.pkl\", \"rb\"))\n",
    "\n",
    "# define process function\n",
    "def process(input_bytes):\n",
    "    inputs = np.array(json.loads(input_bytes))\n",
    "    inference_results = model.predict(inputs)\n",
    "    structured_results = []\n",
    "    for inference_result in inference_results:\n",
    "        structured_output = {\n",
    "            \"data\": {\n",
    "                \"result\": {\"classPredictions\": [{\"class\": str(inference_result), \"score\": str(1)}]}\n",
    "            }\n",
    "        }\n",
    "        structured_results.append(structured_output)\n",
    "    return structured_results"
   ]
  },
  {
   "cell_type": "code",
   "execution_count": null,
   "id": "4443132a",
   "metadata": {},
   "outputs": [],
   "source": [
    "# connect to Chassis client\n",
    "chassis_client = chassisml.ChassisClient(\"https://chassis.app.modzy.com/\")\n",
    "\n",
    "# create Chassis model\n",
    "chassis_model = chassis_client.create_model(process_fn=process)\n",
    "\n",
    "# test Chassis model\n",
    "sample_filepath = './digits_sample.json'\n",
    "results = chassis_model.test(sample_filepath)\n",
    "print(results)"
   ]
  },
  {
   "cell_type": "code",
   "execution_count": null,
   "id": "c17fb9b9",
   "metadata": {},
   "outputs": [],
   "source": [
    "# publish model to Dockerhub\n",
    "response = chassis_model.publish(\n",
    "    model_name=\"My First Chassis Model\",\n",
    "    model_version=\"0.0.1\",\n",
    "    registry_user=\"<insert-Docker Hub username>\",\n",
    "    registry_pass=\"<insert-Docker Hub password>\"\n",
    ")"
   ]
  },
  {
   "cell_type": "code",
   "execution_count": 10,
   "id": "5a6b5243",
   "metadata": {},
   "outputs": [],
   "source": [
    "# wait for job to complete and print result\n",
    "job_id = response.get('job_id')\n",
    "final_status = chassis_client.block_until_complete(job_id)"
   ]
  },
  {
   "cell_type": "code",
   "execution_count": null,
   "id": "78ee1ed4",
   "metadata": {},
   "outputs": [],
   "source": []
  }
 ],
 "metadata": {
  "kernelspec": {
   "display_name": "Python 3 (ipykernel)",
   "language": "python",
   "name": "python3"
  },
  "language_info": {
   "codemirror_mode": {
    "name": "ipython",
    "version": 3
   },
   "file_extension": ".py",
   "mimetype": "text/x-python",
   "name": "python",
   "nbconvert_exporter": "python",
   "pygments_lexer": "ipython3",
   "version": "3.9.7"
  }
 },
 "nbformat": 4,
 "nbformat_minor": 5
}
